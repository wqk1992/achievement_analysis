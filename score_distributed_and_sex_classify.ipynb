{
 "cells": [
  {
   "cell_type": "markdown",
   "metadata": {
    "deletable": true,
    "editable": true
   },
   "source": [
    "本次分析了一次考试的分科成绩的分布，和男生女生在各科成绩上的差异表现。"
   ]
  },
  {
   "cell_type": "code",
   "execution_count": 58,
   "metadata": {
    "collapsed": false,
    "deletable": true,
    "editable": true
   },
   "outputs": [
    {
     "name": "stdout",
     "output_type": "stream",
     "text": [
      "Populating the interactive namespace from numpy and matplotlib\n"
     ]
    }
   ],
   "source": [
    "%pylab inline\n",
    "%matplotlib inline\n",
    "import excel_op as exl \n",
    "import pandas as pd\n",
    "import matplotlib.pyplot as plt"
   ]
  },
  {
   "cell_type": "code",
   "execution_count": 59,
   "metadata": {
    "collapsed": true,
    "deletable": true,
    "editable": true
   },
   "outputs": [],
   "source": [
    "# db9 = exl.open_excel(r'.\\data\\test_data\\ThirdYear9.xlsx')\n",
    "# db10 = exl.open_excel(r'.\\data\\test_data\\ThirdYear10.xlsx')\n",
    "# db11 = exl.open_excel(r'.\\data\\test_data\\ThirdYear11.xlsx')\n",
    "# #db.get_data( 0, 3, 3)#第一个表第四行第四列\n",
    "#db.get_row(0,3)第一个表第四行\n",
    "#db.get_col(0,0)第一个表第一列"
   ]
  },
  {
   "cell_type": "markdown",
   "metadata": {
    "deletable": true,
    "editable": true
   },
   "source": [
    "载入数据："
   ]
  },
  {
   "cell_type": "code",
   "execution_count": 60,
   "metadata": {
    "collapsed": false,
    "deletable": true,
    "editable": true
   },
   "outputs": [],
   "source": [
    "\n",
    "file_path = r'.\\data\\test_data\\ThirdYear'\n",
    "db = list()\n",
    "for i in range(3):\n",
    "    db.append(pd.read_excel(file_path+str(i+9)+'.xlsx',sheetname=[0],header=0)[0])"
   ]
  },
  {
   "cell_type": "markdown",
   "metadata": {
    "deletable": true,
    "editable": true
   },
   "source": [
    "数据载入展示一下："
   ]
  },
  {
   "cell_type": "code",
   "execution_count": 63,
   "metadata": {
    "collapsed": false,
    "deletable": true,
    "editable": true
   },
   "outputs": [
    {
     "name": "stdout",
     "output_type": "stream",
     "text": [
      "(1173, 32)\n"
     ]
    },
    {
     "data": {
      "text/html": [
       "<div>\n",
       "<table border=\"1\" class=\"dataframe\">\n",
       "  <thead>\n",
       "    <tr style=\"text-align: right;\">\n",
       "      <th></th>\n",
       "      <th>班级</th>\n",
       "      <th>姓名</th>\n",
       "      <th>考号</th>\n",
       "      <th>语文</th>\n",
       "      <th>数学</th>\n",
       "      <th>英语</th>\n",
       "      <th>物理</th>\n",
       "      <th>化学</th>\n",
       "      <th>生物</th>\n",
       "      <th>政治</th>\n",
       "      <th>...</th>\n",
       "      <th>语文.2</th>\n",
       "      <th>数学.2</th>\n",
       "      <th>英语.2</th>\n",
       "      <th>物理.2</th>\n",
       "      <th>化学.2</th>\n",
       "      <th>生物.2</th>\n",
       "      <th>政治.2</th>\n",
       "      <th>历史.2</th>\n",
       "      <th>地理.2</th>\n",
       "      <th>10月份月考</th>\n",
       "    </tr>\n",
       "  </thead>\n",
       "  <tbody>\n",
       "    <tr>\n",
       "      <th>0</th>\n",
       "      <td>2.0</td>\n",
       "      <td>戴志鹏</td>\n",
       "      <td>101.0</td>\n",
       "      <td>103.0</td>\n",
       "      <td>74.0</td>\n",
       "      <td>102.5</td>\n",
       "      <td>NaN</td>\n",
       "      <td>NaN</td>\n",
       "      <td>NaN</td>\n",
       "      <td>65.0</td>\n",
       "      <td>...</td>\n",
       "      <td>21.0</td>\n",
       "      <td>30.0</td>\n",
       "      <td>76.5</td>\n",
       "      <td>NaN</td>\n",
       "      <td>NaN</td>\n",
       "      <td>NaN</td>\n",
       "      <td>38.0</td>\n",
       "      <td>40.0</td>\n",
       "      <td>44.0</td>\n",
       "      <td>NaN</td>\n",
       "    </tr>\n",
       "    <tr>\n",
       "      <th>1</th>\n",
       "      <td>1.0</td>\n",
       "      <td>韩梦圆</td>\n",
       "      <td>102.0</td>\n",
       "      <td>103.0</td>\n",
       "      <td>92.0</td>\n",
       "      <td>69.0</td>\n",
       "      <td>NaN</td>\n",
       "      <td>NaN</td>\n",
       "      <td>NaN</td>\n",
       "      <td>66.0</td>\n",
       "      <td>...</td>\n",
       "      <td>21.0</td>\n",
       "      <td>30.0</td>\n",
       "      <td>49.0</td>\n",
       "      <td>NaN</td>\n",
       "      <td>NaN</td>\n",
       "      <td>NaN</td>\n",
       "      <td>38.0</td>\n",
       "      <td>28.0</td>\n",
       "      <td>40.0</td>\n",
       "      <td>NaN</td>\n",
       "    </tr>\n",
       "    <tr>\n",
       "      <th>2</th>\n",
       "      <td>3.0</td>\n",
       "      <td>汪梓龙</td>\n",
       "      <td>103.0</td>\n",
       "      <td>99.0</td>\n",
       "      <td>80.0</td>\n",
       "      <td>116.5</td>\n",
       "      <td>NaN</td>\n",
       "      <td>NaN</td>\n",
       "      <td>NaN</td>\n",
       "      <td>63.0</td>\n",
       "      <td>...</td>\n",
       "      <td>21.0</td>\n",
       "      <td>35.0</td>\n",
       "      <td>79.5</td>\n",
       "      <td>NaN</td>\n",
       "      <td>NaN</td>\n",
       "      <td>NaN</td>\n",
       "      <td>34.0</td>\n",
       "      <td>32.0</td>\n",
       "      <td>44.0</td>\n",
       "      <td>NaN</td>\n",
       "    </tr>\n",
       "    <tr>\n",
       "      <th>3</th>\n",
       "      <td>5.0</td>\n",
       "      <td>李伟</td>\n",
       "      <td>104.0</td>\n",
       "      <td>101.0</td>\n",
       "      <td>96.0</td>\n",
       "      <td>125.5</td>\n",
       "      <td>NaN</td>\n",
       "      <td>NaN</td>\n",
       "      <td>NaN</td>\n",
       "      <td>67.0</td>\n",
       "      <td>...</td>\n",
       "      <td>21.0</td>\n",
       "      <td>45.0</td>\n",
       "      <td>84.5</td>\n",
       "      <td>NaN</td>\n",
       "      <td>NaN</td>\n",
       "      <td>NaN</td>\n",
       "      <td>42.0</td>\n",
       "      <td>28.0</td>\n",
       "      <td>46.0</td>\n",
       "      <td>NaN</td>\n",
       "    </tr>\n",
       "    <tr>\n",
       "      <th>4</th>\n",
       "      <td>6.0</td>\n",
       "      <td>余乐</td>\n",
       "      <td>105.0</td>\n",
       "      <td>96.0</td>\n",
       "      <td>83.0</td>\n",
       "      <td>118.5</td>\n",
       "      <td>NaN</td>\n",
       "      <td>NaN</td>\n",
       "      <td>NaN</td>\n",
       "      <td>69.0</td>\n",
       "      <td>...</td>\n",
       "      <td>18.0</td>\n",
       "      <td>40.0</td>\n",
       "      <td>80.5</td>\n",
       "      <td>NaN</td>\n",
       "      <td>NaN</td>\n",
       "      <td>NaN</td>\n",
       "      <td>38.0</td>\n",
       "      <td>30.0</td>\n",
       "      <td>42.0</td>\n",
       "      <td>NaN</td>\n",
       "    </tr>\n",
       "  </tbody>\n",
       "</table>\n",
       "<p>5 rows × 32 columns</p>\n",
       "</div>"
      ],
      "text/plain": [
       "    班级   姓名     考号     语文    数学     英语  物理  化学  生物    政治   ...    语文.2  数学.2  \\\n",
       "0  2.0  戴志鹏  101.0  103.0  74.0  102.5 NaN NaN NaN  65.0   ...    21.0  30.0   \n",
       "1  1.0  韩梦圆  102.0  103.0  92.0   69.0 NaN NaN NaN  66.0   ...    21.0  30.0   \n",
       "2  3.0  汪梓龙  103.0   99.0  80.0  116.5 NaN NaN NaN  63.0   ...    21.0  35.0   \n",
       "3  5.0   李伟  104.0  101.0  96.0  125.5 NaN NaN NaN  67.0   ...    21.0  45.0   \n",
       "4  6.0   余乐  105.0   96.0  83.0  118.5 NaN NaN NaN  69.0   ...    18.0  40.0   \n",
       "\n",
       "   英语.2  物理.2  化学.2  生物.2  政治.2  历史.2  地理.2  10月份月考  \n",
       "0  76.5   NaN   NaN   NaN  38.0  40.0  44.0     NaN  \n",
       "1  49.0   NaN   NaN   NaN  38.0  28.0  40.0     NaN  \n",
       "2  79.5   NaN   NaN   NaN  34.0  32.0  44.0     NaN  \n",
       "3  84.5   NaN   NaN   NaN  42.0  28.0  46.0     NaN  \n",
       "4  80.5   NaN   NaN   NaN  38.0  30.0  42.0     NaN  \n",
       "\n",
       "[5 rows x 32 columns]"
      ]
     },
     "execution_count": 63,
     "metadata": {},
     "output_type": "execute_result"
    }
   ],
   "source": [
    "print(db[1].shape)\n",
    "db[1].head()"
   ]
  },
  {
   "cell_type": "markdown",
   "metadata": {
    "deletable": true,
    "editable": true
   },
   "source": [
    "提取数据，只用到每个Excel表的第一页中1-12列，即班级-姓名-考号-语文-数学-。。。-文理"
   ]
  },
  {
   "cell_type": "code",
   "execution_count": 64,
   "metadata": {
    "collapsed": false,
    "deletable": true,
    "editable": true
   },
   "outputs": [],
   "source": [
    "data = list()\n",
    "for i in range(len(db)):\n",
    "    data.append(db[i].iloc[:db[i].shape[0],0:13])\n",
    "    "
   ]
  },
  {
   "cell_type": "code",
   "execution_count": 66,
   "metadata": {
    "collapsed": false,
    "deletable": true,
    "editable": true
   },
   "outputs": [
    {
     "name": "stdout",
     "output_type": "stream",
     "text": [
      "(1174, 13)\n"
     ]
    },
    {
     "data": {
      "text/html": [
       "<div>\n",
       "<table border=\"1\" class=\"dataframe\">\n",
       "  <thead>\n",
       "    <tr style=\"text-align: right;\">\n",
       "      <th></th>\n",
       "      <th>班级</th>\n",
       "      <th>姓名</th>\n",
       "      <th>考号</th>\n",
       "      <th>语文</th>\n",
       "      <th>数学</th>\n",
       "      <th>英语</th>\n",
       "      <th>物理</th>\n",
       "      <th>化学</th>\n",
       "      <th>生物</th>\n",
       "      <th>政治</th>\n",
       "      <th>历史</th>\n",
       "      <th>地理</th>\n",
       "      <th>文理</th>\n",
       "    </tr>\n",
       "  </thead>\n",
       "  <tbody>\n",
       "    <tr>\n",
       "      <th>0</th>\n",
       "      <td>2.0</td>\n",
       "      <td>戴志鹏</td>\n",
       "      <td>101.0</td>\n",
       "      <td>103.0</td>\n",
       "      <td>74.0</td>\n",
       "      <td>102.5</td>\n",
       "      <td>NaN</td>\n",
       "      <td>NaN</td>\n",
       "      <td>NaN</td>\n",
       "      <td>65.0</td>\n",
       "      <td>71.0</td>\n",
       "      <td>71.0</td>\n",
       "      <td>文科</td>\n",
       "    </tr>\n",
       "    <tr>\n",
       "      <th>1</th>\n",
       "      <td>1.0</td>\n",
       "      <td>韩梦圆</td>\n",
       "      <td>102.0</td>\n",
       "      <td>103.0</td>\n",
       "      <td>92.0</td>\n",
       "      <td>69.0</td>\n",
       "      <td>NaN</td>\n",
       "      <td>NaN</td>\n",
       "      <td>NaN</td>\n",
       "      <td>66.0</td>\n",
       "      <td>61.0</td>\n",
       "      <td>58.0</td>\n",
       "      <td>文科</td>\n",
       "    </tr>\n",
       "    <tr>\n",
       "      <th>2</th>\n",
       "      <td>3.0</td>\n",
       "      <td>汪梓龙</td>\n",
       "      <td>103.0</td>\n",
       "      <td>99.0</td>\n",
       "      <td>80.0</td>\n",
       "      <td>116.5</td>\n",
       "      <td>NaN</td>\n",
       "      <td>NaN</td>\n",
       "      <td>NaN</td>\n",
       "      <td>63.0</td>\n",
       "      <td>63.0</td>\n",
       "      <td>65.0</td>\n",
       "      <td>文科</td>\n",
       "    </tr>\n",
       "    <tr>\n",
       "      <th>3</th>\n",
       "      <td>5.0</td>\n",
       "      <td>李伟</td>\n",
       "      <td>104.0</td>\n",
       "      <td>101.0</td>\n",
       "      <td>96.0</td>\n",
       "      <td>125.5</td>\n",
       "      <td>NaN</td>\n",
       "      <td>NaN</td>\n",
       "      <td>NaN</td>\n",
       "      <td>67.0</td>\n",
       "      <td>59.0</td>\n",
       "      <td>77.0</td>\n",
       "      <td>文科</td>\n",
       "    </tr>\n",
       "    <tr>\n",
       "      <th>4</th>\n",
       "      <td>6.0</td>\n",
       "      <td>余乐</td>\n",
       "      <td>105.0</td>\n",
       "      <td>96.0</td>\n",
       "      <td>83.0</td>\n",
       "      <td>118.5</td>\n",
       "      <td>NaN</td>\n",
       "      <td>NaN</td>\n",
       "      <td>NaN</td>\n",
       "      <td>69.0</td>\n",
       "      <td>57.0</td>\n",
       "      <td>64.0</td>\n",
       "      <td>文科</td>\n",
       "    </tr>\n",
       "  </tbody>\n",
       "</table>\n",
       "</div>"
      ],
      "text/plain": [
       "    班级   姓名     考号     语文    数学     英语  物理  化学  生物    政治    历史    地理  文理\n",
       "0  2.0  戴志鹏  101.0  103.0  74.0  102.5 NaN NaN NaN  65.0  71.0  71.0  文科\n",
       "1  1.0  韩梦圆  102.0  103.0  92.0   69.0 NaN NaN NaN  66.0  61.0  58.0  文科\n",
       "2  3.0  汪梓龙  103.0   99.0  80.0  116.5 NaN NaN NaN  63.0  63.0  65.0  文科\n",
       "3  5.0   李伟  104.0  101.0  96.0  125.5 NaN NaN NaN  67.0  59.0  77.0  文科\n",
       "4  6.0   余乐  105.0   96.0  83.0  118.5 NaN NaN NaN  69.0  57.0  64.0  文科"
      ]
     },
     "execution_count": 66,
     "metadata": {},
     "output_type": "execute_result"
    }
   ],
   "source": [
    "print(data[2].shape)\n",
    "data[1].head()"
   ]
  },
  {
   "cell_type": "markdown",
   "metadata": {
    "deletable": true,
    "editable": true
   },
   "source": [
    "从下图可以看出，语文分布比较集中，数学和英语成绩分布比较散"
   ]
  },
  {
   "cell_type": "code",
   "execution_count": 77,
   "metadata": {
    "collapsed": false,
    "deletable": true,
    "editable": true,
    "scrolled": false
   },
   "outputs": [
    {
     "name": "stdout",
     "output_type": "stream",
     "text": [
      "语文第一次\n"
     ]
    },
    {
     "data": {
      "image/png": "[encoded data removed]",
      "text/plain": [
       "<matplotlib.figure.Figure at 0x24b539bc780>"
      ]
     },
     "metadata": {},
     "output_type": "display_data"
    },
    {
     "name": "stdout",
     "output_type": "stream",
     "text": [
      "语文第二次\n"
     ]
    },
    {
     "data": {
      "image/png": "[encoded data removed]",
      "text/plain": [
       "<matplotlib.figure.Figure at 0x24b5228d940>"
      ]
     },
     "metadata": {},
     "output_type": "display_data"
    },
    {
     "name": "stdout",
     "output_type": "stream",
     "text": [
      "语文第三次\n"
     ]
    },
    {
     "data": {
      "image/png": "[encoded data removed]",
      "text/plain": [
       "<matplotlib.figure.Figure at 0x24b53954710>"
      ]
     },
     "metadata": {},
     "output_type": "display_data"
    },
    {
     "name": "stdout",
     "output_type": "stream",
     "text": [
      "数学第一次\n"
     ]
    },
    {
     "data": {
      "image/png": "[encoded data removed]",
      "text/plain": [
       "<matplotlib.figure.Figure at 0x24b523d71d0>"
      ]
     },
     "metadata": {},
     "output_type": "display_data"
    },
    {
     "name": "stdout",
     "output_type": "stream",
     "text": [
      "数学第二次\n"
     ]
    },
    {
     "data": {
      "image/png": "[encoded data removed]",
      "text/plain": [
       "<matplotlib.figure.Figure at 0x24b5221e278>"
      ]
     },
     "metadata": {},
     "output_type": "display_data"
    },
    {
     "name": "stdout",
     "output_type": "stream",
     "text": [
      "数学第三次\n"
     ]
    },
    {
     "data": {
      "image/png": "[encoded data removed]",
      "text/plain": [
       "<matplotlib.figure.Figure at 0x24b53a53080>"
      ]
     },
     "metadata": {},
     "output_type": "display_data"
    },
    {
     "name": "stdout",
     "output_type": "stream",
     "text": [
      "英语第一次\n"
     ]
    },
    {
     "data": {
      "image/png": "[encoded data removed]",
      "text/plain": [
       "<matplotlib.figure.Figure at 0x24b52088f98>"
      ]
     },
     "metadata": {},
     "output_type": "display_data"
    },
    {
     "name": "stdout",
     "output_type": "stream",
     "text": [
      "英语第二次\n"
     ]
    },
    {
     "data": {
      "image/png": "[encoded data removed]",
      "text/plain": [
       "<matplotlib.figure.Figure at 0x24b520a81d0>"
      ]
     },
     "metadata": {},
     "output_type": "display_data"
    },
    {
     "name": "stdout",
     "output_type": "stream",
     "text": [
      "英语第三次\n"
     ]
    },
    {
     "data": {
      "image/png": "[encoded data removed]",
      "text/plain": [
       "<matplotlib.figure.Figure at 0x24b52036438>"
      ]
     },
     "metadata": {},
     "output_type": "display_data"
    }
   ],
   "source": [
    "def show_distributed(i = 0, project = \"语文\"):\n",
    "    d = data[i][project].value_counts().to_dict()\n",
    "    r = []\n",
    "    for key, value in d.items():\n",
    "        r.append([key, value])\n",
    "    r = np.array(r)\n",
    "    plt.scatter(r[:,0], r[:,1])\n",
    "    plt.show()\n",
    "print(\"语文第一次\")\n",
    "show_distributed()\n",
    "print(\"语文第二次\")\n",
    "show_distributed(i = 1)\n",
    "print(\"语文第三次\")\n",
    "show_distributed(i = 2)\n",
    "\n",
    "print(\"数学第一次\")\n",
    "show_distributed(i= 0, project = \"数学\")\n",
    "print(\"数学第二次\")\n",
    "show_distributed(i= 1, project = \"数学\")\n",
    "print(\"数学第三次\")\n",
    "show_distributed(i= 2, project = \"数学\")\n",
    "\n",
    "print(\"英语第一次\")\n",
    "show_distributed(i= 0, project = \"英语\")\n",
    "print(\"英语第二次\")\n",
    "show_distributed(i= 1, project = \"英语\")\n",
    "print(\"英语第三次\")\n",
    "show_distributed(i= 2, project = \"英语\")"
   ]
  },
  {
   "cell_type": "markdown",
   "metadata": {
    "deletable": true,
    "editable": true
   },
   "source": [
    "以下是使用成绩预测性别，探讨性别和成绩特征的关系。性别特征是手动标注，选取明显能区分男女的名字标注，抛弃不能区分男女的信息，所以数据量比较小，只做探讨。"
   ]
  },
  {
   "cell_type": "code",
   "execution_count": 78,
   "metadata": {
    "collapsed": false,
    "deletable": true,
    "editable": true
   },
   "outputs": [],
   "source": [
    "import pandas as pd\n",
    "file_path = r'.\\data\\test_data\\ThirdYear_test.xlsx'\n",
    "df = pd.read_excel(file_path, sheetname=[0],header=0)[0]"
   ]
  },
  {
   "cell_type": "markdown",
   "metadata": {
    "deletable": true,
    "editable": true
   },
   "source": [
    "选取225个数据点，男生118个。"
   ]
  },
  {
   "cell_type": "code",
   "execution_count": 79,
   "metadata": {
    "collapsed": false,
    "deletable": true,
    "editable": true,
    "scrolled": true
   },
   "outputs": [
    {
     "name": "stdout",
     "output_type": "stream",
     "text": [
      "(225, 7)\n",
      "118\n"
     ]
    },
    {
     "data": {
      "text/html": [
       "<div>\n",
       "<table border=\"1\" class=\"dataframe\">\n",
       "  <thead>\n",
       "    <tr style=\"text-align: right;\">\n",
       "      <th></th>\n",
       "      <th>sex</th>\n",
       "      <th>chinese</th>\n",
       "      <th>math</th>\n",
       "      <th>english</th>\n",
       "      <th>Physical</th>\n",
       "      <th>chemical</th>\n",
       "      <th>organisms</th>\n",
       "    </tr>\n",
       "  </thead>\n",
       "  <tbody>\n",
       "    <tr>\n",
       "      <th>1</th>\n",
       "      <td>1</td>\n",
       "      <td>92.0</td>\n",
       "      <td>111.0</td>\n",
       "      <td>54.0</td>\n",
       "      <td>70.0</td>\n",
       "      <td>74.0</td>\n",
       "      <td>86.0</td>\n",
       "    </tr>\n",
       "    <tr>\n",
       "      <th>2</th>\n",
       "      <td>1</td>\n",
       "      <td>90.0</td>\n",
       "      <td>36.0</td>\n",
       "      <td>35.0</td>\n",
       "      <td>29.0</td>\n",
       "      <td>28.0</td>\n",
       "      <td>44.0</td>\n",
       "    </tr>\n",
       "    <tr>\n",
       "      <th>4</th>\n",
       "      <td>1</td>\n",
       "      <td>82.0</td>\n",
       "      <td>86.0</td>\n",
       "      <td>55.5</td>\n",
       "      <td>38.0</td>\n",
       "      <td>39.0</td>\n",
       "      <td>75.0</td>\n",
       "    </tr>\n",
       "    <tr>\n",
       "      <th>6</th>\n",
       "      <td>2</td>\n",
       "      <td>74.0</td>\n",
       "      <td>47.0</td>\n",
       "      <td>90.5</td>\n",
       "      <td>26.0</td>\n",
       "      <td>31.0</td>\n",
       "      <td>69.0</td>\n",
       "    </tr>\n",
       "    <tr>\n",
       "      <th>9</th>\n",
       "      <td>1</td>\n",
       "      <td>98.0</td>\n",
       "      <td>103.0</td>\n",
       "      <td>73.5</td>\n",
       "      <td>57.0</td>\n",
       "      <td>80.0</td>\n",
       "      <td>81.0</td>\n",
       "    </tr>\n",
       "  </tbody>\n",
       "</table>\n",
       "</div>"
      ],
      "text/plain": [
       "   sex  chinese   math  english  Physical  chemical  organisms\n",
       "1    1     92.0  111.0     54.0      70.0      74.0       86.0\n",
       "2    1     90.0   36.0     35.0      29.0      28.0       44.0\n",
       "4    1     82.0   86.0     55.5      38.0      39.0       75.0\n",
       "6    2     74.0   47.0     90.5      26.0      31.0       69.0\n",
       "9    1     98.0  103.0     73.5      57.0      80.0       81.0"
      ]
     },
     "execution_count": 79,
     "metadata": {},
     "output_type": "execute_result"
    }
   ],
   "source": [
    "data = df.iloc[:714,1:10]\n",
    "data.columns=['name','sex','num','chinese','math','english','Physical', 'chemical', 'organisms']\n",
    "data = data[['sex','chinese','math','english','Physical', 'chemical', 'organisms']]\n",
    "data = data[data.sex >0]\n",
    "data[['sex']] = data[['sex']].astype(int)\n",
    "print(data.shape)\n",
    "man_num = 0\n",
    "c = data.loc[:,['sex']]\n",
    "\n",
    "for i in c['sex']:\n",
    "    \n",
    "    if i == 1:\n",
    "        man_num += 1\n",
    "print(man_num)\n",
    "data.head()\n"
   ]
  },
  {
   "cell_type": "markdown",
   "metadata": {
    "deletable": true,
    "editable": true
   },
   "source": [
    "pca降维："
   ]
  },
  {
   "cell_type": "code",
   "execution_count": 80,
   "metadata": {
    "collapsed": false,
    "deletable": true,
    "editable": true
   },
   "outputs": [
    {
     "data": {
      "text/plain": [
       "(225, 3)"
      ]
     },
     "execution_count": 80,
     "metadata": {},
     "output_type": "execute_result"
    }
   ],
   "source": [
    "from sklearn.decomposition import PCA\n",
    "pca = PCA(n_components=3)\n",
    "data = data.fillna(data.mean())\n",
    "value = data.iloc[:,1:].values\n",
    "\n",
    "new_value = pca.fit_transform(value)\n",
    "new_value.shape"
   ]
  },
  {
   "cell_type": "markdown",
   "metadata": {
    "deletable": true,
    "editable": true
   },
   "source": [
    "从下图看出男女生成绩分布有一定规律，但是并不是那么明显。"
   ]
  },
  {
   "cell_type": "code",
   "execution_count": 81,
   "metadata": {
    "collapsed": false,
    "deletable": true,
    "editable": true
   },
   "outputs": [
    {
     "data": {
      "image/png": "[encoded data removed]",
      "text/plain": [
       "<matplotlib.figure.Figure at 0x24b52205f60>"
      ]
     },
     "metadata": {},
     "output_type": "display_data"
    }
   ],
   "source": [
    "import matplotlib  \n",
    "import matplotlib.pyplot as plt \n",
    "\n",
    "plt.figure()\n",
    "plt.scatter(new_value[:,0],new_value[:,1], c=data.iloc[:,0])\n",
    "plt.show()"
   ]
  },
  {
   "cell_type": "markdown",
   "metadata": {
    "deletable": true,
    "editable": true
   },
   "source": [
    "三维图，也不是很清晰"
   ]
  },
  {
   "cell_type": "code",
   "execution_count": 82,
   "metadata": {
    "collapsed": false,
    "deletable": true,
    "editable": true
   },
   "outputs": [
    {
     "data": {
      "image/png": "[encoded data removed]",
      "text/plain": [
       "<matplotlib.figure.Figure at 0x24b51fe8c88>"
      ]
     },
     "metadata": {},
     "output_type": "display_data"
    }
   ],
   "source": [
    "from mpl_toolkits.mplot3d import Axes3D\n",
    "import matplotlib.pyplot as plt\n",
    "\n",
    "ax=plt.subplot(111,projection='3d') #创建一个三维的绘图工程\n",
    "\n",
    "#将数据点分成三部分画，在颜色上有区分度\n",
    "ax.scatter(new_value[:,0],new_value[:,1],new_value[:,2],c=data.iloc[:,0]) #绘制数据点\n",
    "\n",
    "\n",
    "ax.set_zlabel('Z')\n",
    "ax.set_ylabel('Y')\n",
    "ax.set_xlabel('X')\n",
    "plt.show()"
   ]
  },
  {
   "cell_type": "markdown",
   "metadata": {
    "deletable": true,
    "editable": true
   },
   "source": [
    "下面使用pca+svm，使用成绩作为特征，性别作为标签，分类上述数据。使用GridSearchCV调参。从下面分析看出，分类男女的效果最好在0.66左右，比随机猜测0.5要好一点，但是并没有很好的效果，证明男女生理科成绩有一定差异，但是不明显。"
   ]
  },
  {
   "cell_type": "code",
   "execution_count": 83,
   "metadata": {
    "collapsed": false,
    "deletable": true,
    "editable": true
   },
   "outputs": [
    {
     "name": "stdout",
     "output_type": "stream",
     "text": [
      "Fitting 3 folds for each of 90 candidates, totalling 270 fits\n",
      "[CV] pca__n_components=1, svm__kernel=linear, svm__gamma=0.1, svm__C=0.05 \n",
      "[CV]  pca__n_components=1, svm__kernel=linear, svm__gamma=0.1, svm__C=0.05, score=0.513158, total=   0.0s\n",
      "[CV] pca__n_components=1, svm__kernel=linear, svm__gamma=0.1, svm__C=0.05 \n",
      "[CV]  pca__n_components=1, svm__kernel=linear, svm__gamma=0.1, svm__C=0.05, score=0.520000, total=   0.0s\n",
      "[CV] pca__n_components=1, svm__kernel=linear, svm__gamma=0.1, svm__C=0.05 \n",
      "[CV]  pca__n_components=1, svm__kernel=linear, svm__gamma=0.1, svm__C=0.05, score=0.500000, total=   0.0s\n",
      "[CV] pca__n_components=1, svm__kernel=rbf, svm__gamma=0.1, svm__C=0.05 \n",
      "[CV]  pca__n_components=1, svm__kernel=rbf, svm__gamma=0.1, svm__C=0.05, score=0.526316, total=   0.0s\n",
      "[CV] pca__n_components=1, svm__kernel=rbf, svm__gamma=0.1, svm__C=0.05 \n",
      "[CV]  pca__n_components=1, svm__kernel=rbf, svm__gamma=0.1, svm__C=0.05, score=0.520000, total=   0.0s\n",
      "[CV] pca__n_components=1, svm__kernel=rbf, svm__gamma=0.1, svm__C=0.05 \n",
      "[CV]  pca__n_components=1, svm__kernel=rbf, svm__gamma=0.1, svm__C=0.05, score=0.527027, total=   0.0s\n",
      "[CV] pca__n_components=1, svm__kernel=linear, svm__gamma=0.2, svm__C=0.05 \n",
      "[CV]  pca__n_components=1, svm__kernel=linear, svm__gamma=0.2, svm__C=0.05, score=0.513158, total=   0.0s\n",
      "[CV] pca__n_components=1, svm__kernel=linear, svm__gamma=0.2, svm__C=0.05 \n",
      "[CV]  pca__n_components=1, svm__kernel=linear, svm__gamma=0.2, svm__C=0.05, score=0.520000, total=   0.0s\n",
      "[CV] pca__n_components=1, svm__kernel=linear, svm__gamma=0.2, svm__C=0.05 \n",
      "[CV]  pca__n_components=1, svm__kernel=linear, svm__gamma=0.2, svm__C=0.05, score=0.500000, total=   0.0s\n",
      "[CV] pca__n_components=1, svm__kernel=rbf, svm__gamma=0.2, svm__C=0.05 \n",
      "[CV]  pca__n_components=1, svm__kernel=rbf, svm__gamma=0.2, svm__C=0.05, score=0.526316, total=   0.0s\n",
      "[CV] pca__n_components=1, svm__kernel=rbf, svm__gamma=0.2, svm__C=0.05 \n",
      "[CV]  pca__n_components=1, svm__kernel=rbf, svm__gamma=0.2, svm__C=0.05, score=0.520000, total=   0.0s\n",
      "[CV] pca__n_components=1, svm__kernel=rbf, svm__gamma=0.2, svm__C=0.05 \n",
      "[CV]  pca__n_components=1, svm__kernel=rbf, svm__gamma=0.2, svm__C=0.05, score=0.527027, total=   0.0s\n",
      "[CV] pca__n_components=1, svm__kernel=linear, svm__gamma=0.3, svm__C=0.05 \n",
      "[CV]  pca__n_components=1, svm__kernel=linear, svm__gamma=0.3, svm__C=0.05, score=0.513158, total=   0.0s\n",
      "[CV] pca__n_components=1, svm__kernel=linear, svm__gamma=0.3, svm__C=0.05 \n",
      "[CV]  pca__n_components=1, svm__kernel=linear, svm__gamma=0.3, svm__C=0.05, score=0.520000, total=   0.0s\n",
      "[CV] pca__n_components=1, svm__kernel=linear, svm__gamma=0.3, svm__C=0.05 \n",
      "[CV]  pca__n_components=1, svm__kernel=linear, svm__gamma=0.3, svm__C=0.05, score=0.500000, total=   0.0s\n",
      "[CV] pca__n_components=1, svm__kernel=rbf, svm__gamma=0.3, svm__C=0.05 \n",
      "[CV]  pca__n_components=1, svm__kernel=rbf, svm__gamma=0.3, svm__C=0.05, score=0.526316, total=   0.0s\n",
      "[CV] pca__n_components=1, svm__kernel=rbf, svm__gamma=0.3, svm__C=0.05 \n",
      "[CV]  pca__n_components=1, svm__kernel=rbf, svm__gamma=0.3, svm__C=0.05, score=0.520000, total=   0.0s\n",
      "[CV] pca__n_components=1, svm__kernel=rbf, svm__gamma=0.3, svm__C=0.05 \n",
      "[CV]  pca__n_components=1, svm__kernel=rbf, svm__gamma=0.3, svm__C=0.05, score=0.527027, total=   0.0s\n",
      "[CV] pca__n_components=1, svm__kernel=linear, svm__gamma=0.1, svm__C=0.1 \n",
      "[CV]  pca__n_components=1, svm__kernel=linear, svm__gamma=0.1, svm__C=0.1, score=0.513158, total=   0.0s\n",
      "[CV] pca__n_components=1, svm__kernel=linear, svm__gamma=0.1, svm__C=0.1 \n",
      "[CV]  pca__n_components=1, svm__kernel=linear, svm__gamma=0.1, svm__C=0.1, score=0.520000, total=   0.0s\n",
      "[CV] pca__n_components=1, svm__kernel=linear, svm__gamma=0.1, svm__C=0.1 \n",
      "[CV]  pca__n_components=1, svm__kernel=linear, svm__gamma=0.1, svm__C=0.1, score=0.500000, total=   0.0s\n",
      "[CV] pca__n_components=1, svm__kernel=rbf, svm__gamma=0.1, svm__C=0.1 \n",
      "[CV]  pca__n_components=1, svm__kernel=rbf, svm__gamma=0.1, svm__C=0.1, score=0.526316, total=   0.0s\n",
      "[CV] pca__n_components=1, svm__kernel=rbf, svm__gamma=0.1, svm__C=0.1 \n",
      "[CV]  pca__n_components=1, svm__kernel=rbf, svm__gamma=0.1, svm__C=0.1, score=0.520000, total=   0.0s\n",
      "[CV] pca__n_components=1, svm__kernel=rbf, svm__gamma=0.1, svm__C=0.1 \n",
      "[CV]  pca__n_components=1, svm__kernel=rbf, svm__gamma=0.1, svm__C=0.1, score=0.527027, total=   0.0s\n",
      "[CV] pca__n_components=1, svm__kernel=linear, svm__gamma=0.2, svm__C=0.1 \n",
      "[CV]  pca__n_components=1, svm__kernel=linear, svm__gamma=0.2, svm__C=0.1, score=0.513158, total=   0.0s\n",
      "[CV] pca__n_components=1, svm__kernel=linear, svm__gamma=0.2, svm__C=0.1 \n",
      "[CV]  pca__n_components=1, svm__kernel=linear, svm__gamma=0.2, svm__C=0.1, score=0.520000, total=   0.0s\n",
      "[CV] pca__n_components=1, svm__kernel=linear, svm__gamma=0.2, svm__C=0.1 \n",
      "[CV]  pca__n_components=1, svm__kernel=linear, svm__gamma=0.2, svm__C=0.1, score=0.500000, total=   0.0s\n",
      "[CV] pca__n_components=1, svm__kernel=rbf, svm__gamma=0.2, svm__C=0.1 \n",
      "[CV]  pca__n_components=1, svm__kernel=rbf, svm__gamma=0.2, svm__C=0.1, score=0.526316, total=   0.0s\n",
      "[CV] pca__n_components=1, svm__kernel=rbf, svm__gamma=0.2, svm__C=0.1 \n",
      "[CV]  pca__n_components=1, svm__kernel=rbf, svm__gamma=0.2, svm__C=0.1, score=0.520000, total=   0.0s\n",
      "[CV] pca__n_components=1, svm__kernel=rbf, svm__gamma=0.2, svm__C=0.1 \n",
      "[CV]  pca__n_components=1, svm__kernel=rbf, svm__gamma=0.2, svm__C=0.1, score=0.527027, total=   0.0s\n",
      "[CV] pca__n_components=1, svm__kernel=linear, svm__gamma=0.3, svm__C=0.1 \n"
     ]
    },
    {
     "name": "stderr",
     "output_type": "stream",
     "text": [
      "[Parallel(n_jobs=1)]: Done   1 out of   1 | elapsed:    0.0s remaining:    0.0s\n",
      "[Parallel(n_jobs=1)]: Done   2 out of   2 | elapsed:    0.0s remaining:    0.0s\n",
      "[Parallel(n_jobs=1)]: Done   3 out of   3 | elapsed:    0.0s remaining:    0.0s\n",
      "[Parallel(n_jobs=1)]: Done   4 out of   4 | elapsed:    0.0s remaining:    0.0s\n",
      "[Parallel(n_jobs=1)]: Done   5 out of   5 | elapsed:    0.0s remaining:    0.0s\n",
      "[Parallel(n_jobs=1)]: Done   6 out of   6 | elapsed:    0.0s remaining:    0.0s\n",
      "[Parallel(n_jobs=1)]: Done   7 out of   7 | elapsed:    0.0s remaining:    0.0s\n",
      "[Parallel(n_jobs=1)]: Done   8 out of   8 | elapsed:    0.0s remaining:    0.0s\n",
      "[Parallel(n_jobs=1)]: Done   9 out of   9 | elapsed:    0.0s remaining:    0.0s\n"
     ]
    },
    {
     "name": "stdout",
     "output_type": "stream",
     "text": [
      "[CV]  pca__n_components=1, svm__kernel=linear, svm__gamma=0.3, svm__C=0.1, score=0.513158, total=   0.0s\n",
      "[CV] pca__n_components=1, svm__kernel=linear, svm__gamma=0.3, svm__C=0.1 \n",
      "[CV]  pca__n_components=1, svm__kernel=linear, svm__gamma=0.3, svm__C=0.1, score=0.520000, total=   0.0s\n",
      "[CV] pca__n_components=1, svm__kernel=linear, svm__gamma=0.3, svm__C=0.1 \n",
      "[CV]  pca__n_components=1, svm__kernel=linear, svm__gamma=0.3, svm__C=0.1, score=0.500000, total=   0.0s\n",
      "[CV] pca__n_components=1, svm__kernel=rbf, svm__gamma=0.3, svm__C=0.1 \n",
      "[CV]  pca__n_components=1, svm__kernel=rbf, svm__gamma=0.3, svm__C=0.1, score=0.526316, total=   0.0s\n",
      "[CV] pca__n_components=1, svm__kernel=rbf, svm__gamma=0.3, svm__C=0.1 \n",
      "[CV]  pca__n_components=1, svm__kernel=rbf, svm__gamma=0.3, svm__C=0.1, score=0.520000, total=   0.0s\n",
      "[CV] pca__n_components=1, svm__kernel=rbf, svm__gamma=0.3, svm__C=0.1 \n",
      "[CV]  pca__n_components=1, svm__kernel=rbf, svm__gamma=0.3, svm__C=0.1, score=0.527027, total=   0.0s\n",
      "[CV] pca__n_components=1, svm__kernel=linear, svm__gamma=0.1, svm__C=0.5 \n",
      "[CV]  pca__n_components=1, svm__kernel=linear, svm__gamma=0.1, svm__C=0.5, score=0.513158, total=   0.0s\n",
      "[CV] pca__n_components=1, svm__kernel=linear, svm__gamma=0.1, svm__C=0.5 \n",
      "[CV]  pca__n_components=1, svm__kernel=linear, svm__gamma=0.1, svm__C=0.5, score=0.520000, total=   0.0s\n",
      "[CV] pca__n_components=1, svm__kernel=linear, svm__gamma=0.1, svm__C=0.5 \n",
      "[CV]  pca__n_components=1, svm__kernel=linear, svm__gamma=0.1, svm__C=0.5, score=0.500000, total=   0.0s\n",
      "[CV] pca__n_components=1, svm__kernel=rbf, svm__gamma=0.1, svm__C=0.5 \n",
      "[CV]  pca__n_components=1, svm__kernel=rbf, svm__gamma=0.1, svm__C=0.5, score=0.486842, total=   0.0s\n",
      "[CV] pca__n_components=1, svm__kernel=rbf, svm__gamma=0.1, svm__C=0.5 \n",
      "[CV]  pca__n_components=1, svm__kernel=rbf, svm__gamma=0.1, svm__C=0.5, score=0.520000, total=   0.0s\n",
      "[CV] pca__n_components=1, svm__kernel=rbf, svm__gamma=0.1, svm__C=0.5 \n",
      "[CV]  pca__n_components=1, svm__kernel=rbf, svm__gamma=0.1, svm__C=0.5, score=0.500000, total=   0.0s\n",
      "[CV] pca__n_components=1, svm__kernel=linear, svm__gamma=0.2, svm__C=0.5 \n",
      "[CV]  pca__n_components=1, svm__kernel=linear, svm__gamma=0.2, svm__C=0.5, score=0.513158, total=   0.0s\n",
      "[CV] pca__n_components=1, svm__kernel=linear, svm__gamma=0.2, svm__C=0.5 \n",
      "[CV]  pca__n_components=1, svm__kernel=linear, svm__gamma=0.2, svm__C=0.5, score=0.520000, total=   0.0s\n",
      "[CV] pca__n_components=1, svm__kernel=linear, svm__gamma=0.2, svm__C=0.5 \n",
      "[CV]  pca__n_components=1, svm__kernel=linear, svm__gamma=0.2, svm__C=0.5, score=0.500000, total=   0.0s\n",
      "[CV] pca__n_components=1, svm__kernel=rbf, svm__gamma=0.2, svm__C=0.5 \n",
      "[CV]  pca__n_components=1, svm__kernel=rbf, svm__gamma=0.2, svm__C=0.5, score=0.565789, total=   0.0s\n",
      "[CV] pca__n_components=1, svm__kernel=rbf, svm__gamma=0.2, svm__C=0.5 \n",
      "[CV]  pca__n_components=1, svm__kernel=rbf, svm__gamma=0.2, svm__C=0.5, score=0.480000, total=   0.0s\n",
      "[CV] pca__n_components=1, svm__kernel=rbf, svm__gamma=0.2, svm__C=0.5 \n",
      "[CV]  pca__n_components=1, svm__kernel=rbf, svm__gamma=0.2, svm__C=0.5, score=0.486486, total=   0.0s\n",
      "[CV] pca__n_components=1, svm__kernel=linear, svm__gamma=0.3, svm__C=0.5 \n",
      "[CV]  pca__n_components=1, svm__kernel=linear, svm__gamma=0.3, svm__C=0.5, score=0.513158, total=   0.0s\n",
      "[CV] pca__n_components=1, svm__kernel=linear, svm__gamma=0.3, svm__C=0.5 \n",
      "[CV]  pca__n_components=1, svm__kernel=linear, svm__gamma=0.3, svm__C=0.5, score=0.520000, total=   0.0s\n",
      "[CV] pca__n_components=1, svm__kernel=linear, svm__gamma=0.3, svm__C=0.5 \n",
      "[CV]  pca__n_components=1, svm__kernel=linear, svm__gamma=0.3, svm__C=0.5, score=0.500000, total=   0.0s\n",
      "[CV] pca__n_components=1, svm__kernel=rbf, svm__gamma=0.3, svm__C=0.5 \n",
      "[CV]  pca__n_components=1, svm__kernel=rbf, svm__gamma=0.3, svm__C=0.5, score=0.578947, total=   0.0s\n",
      "[CV] pca__n_components=1, svm__kernel=rbf, svm__gamma=0.3, svm__C=0.5 \n",
      "[CV]  pca__n_components=1, svm__kernel=rbf, svm__gamma=0.3, svm__C=0.5, score=0.480000, total=   0.0s\n",
      "[CV] pca__n_components=1, svm__kernel=rbf, svm__gamma=0.3, svm__C=0.5 \n",
      "[CV]  pca__n_components=1, svm__kernel=rbf, svm__gamma=0.3, svm__C=0.5, score=0.500000, total=   0.0s\n",
      "[CV] pca__n_components=1, svm__kernel=linear, svm__gamma=0.1, svm__C=1 \n",
      "[CV]  pca__n_components=1, svm__kernel=linear, svm__gamma=0.1, svm__C=1, score=0.513158, total=   0.0s\n",
      "[CV] pca__n_components=1, svm__kernel=linear, svm__gamma=0.1, svm__C=1 \n",
      "[CV]  pca__n_components=1, svm__kernel=linear, svm__gamma=0.1, svm__C=1, score=0.520000, total=   1.6s\n",
      "[CV] pca__n_components=1, svm__kernel=linear, svm__gamma=0.1, svm__C=1 \n",
      "[CV]  pca__n_components=1, svm__kernel=linear, svm__gamma=0.1, svm__C=1, score=0.500000, total=   0.0s\n",
      "[CV] pca__n_components=1, svm__kernel=rbf, svm__gamma=0.1, svm__C=1 ..\n",
      "[CV]  pca__n_components=1, svm__kernel=rbf, svm__gamma=0.1, svm__C=1, score=0.434211, total=   0.0s\n",
      "[CV] pca__n_components=1, svm__kernel=rbf, svm__gamma=0.1, svm__C=1 ..\n",
      "[CV]  pca__n_components=1, svm__kernel=rbf, svm__gamma=0.1, svm__C=1, score=0.426667, total=   0.0s\n",
      "[CV] pca__n_components=1, svm__kernel=rbf, svm__gamma=0.1, svm__C=1 ..\n",
      "[CV]  pca__n_components=1, svm__kernel=rbf, svm__gamma=0.1, svm__C=1, score=0.500000, total=   0.0s\n",
      "[CV] pca__n_components=1, svm__kernel=linear, svm__gamma=0.2, svm__C=1 \n",
      "[CV]  pca__n_components=1, svm__kernel=linear, svm__gamma=0.2, svm__C=1, score=0.513158, total=   0.0s\n",
      "[CV] pca__n_components=1, svm__kernel=linear, svm__gamma=0.2, svm__C=1 \n",
      "[CV]  pca__n_components=1, svm__kernel=linear, svm__gamma=0.2, svm__C=1, score=0.520000, total=   1.6s\n",
      "[CV] pca__n_components=1, svm__kernel=linear, svm__gamma=0.2, svm__C=1 \n",
      "[CV]  pca__n_components=1, svm__kernel=linear, svm__gamma=0.2, svm__C=1, score=0.500000, total=   0.0s\n",
      "[CV] pca__n_components=1, svm__kernel=rbf, svm__gamma=0.2, svm__C=1 ..\n",
      "[CV]  pca__n_components=1, svm__kernel=rbf, svm__gamma=0.2, svm__C=1, score=0.500000, total=   0.0s\n",
      "[CV] pca__n_components=1, svm__kernel=rbf, svm__gamma=0.2, svm__C=1 ..\n",
      "[CV]  pca__n_components=1, svm__kernel=rbf, svm__gamma=0.2, svm__C=1, score=0.413333, total=   0.0s\n",
      "[CV] pca__n_components=1, svm__kernel=rbf, svm__gamma=0.2, svm__C=1 ..\n",
      "[CV]  pca__n_components=1, svm__kernel=rbf, svm__gamma=0.2, svm__C=1, score=0.500000, total=   0.0s\n",
      "[CV] pca__n_components=1, svm__kernel=linear, svm__gamma=0.3, svm__C=1 \n",
      "[CV]  pca__n_components=1, svm__kernel=linear, svm__gamma=0.3, svm__C=1, score=0.513158, total=   0.0s\n",
      "[CV] pca__n_components=1, svm__kernel=linear, svm__gamma=0.3, svm__C=1 \n",
      "[CV]  pca__n_components=1, svm__kernel=linear, svm__gamma=0.3, svm__C=1, score=0.520000, total=   1.6s\n",
      "[CV] pca__n_components=1, svm__kernel=linear, svm__gamma=0.3, svm__C=1 \n",
      "[CV]  pca__n_components=1, svm__kernel=linear, svm__gamma=0.3, svm__C=1, score=0.500000, total=   0.0s\n",
      "[CV] pca__n_components=1, svm__kernel=rbf, svm__gamma=0.3, svm__C=1 ..\n",
      "[CV]  pca__n_components=1, svm__kernel=rbf, svm__gamma=0.3, svm__C=1, score=0.539474, total=   0.0s\n",
      "[CV] pca__n_components=1, svm__kernel=rbf, svm__gamma=0.3, svm__C=1 ..\n",
      "[CV]  pca__n_components=1, svm__kernel=rbf, svm__gamma=0.3, svm__C=1, score=0.440000, total=   0.0s\n",
      "[CV] pca__n_components=1, svm__kernel=rbf, svm__gamma=0.3, svm__C=1 ..\n",
      "[CV]  pca__n_components=1, svm__kernel=rbf, svm__gamma=0.3, svm__C=1, score=0.513514, total=   0.0s\n",
      "[CV] pca__n_components=1, svm__kernel=linear, svm__gamma=0.1, svm__C=10 \n",
      "[CV]  pca__n_components=1, svm__kernel=linear, svm__gamma=0.1, svm__C=10, score=0.513158, total=   0.1s\n",
      "[CV] pca__n_components=1, svm__kernel=linear, svm__gamma=0.1, svm__C=10 \n",
      "[CV]  pca__n_components=1, svm__kernel=linear, svm__gamma=0.1, svm__C=10, score=0.520000, total=   5.1s\n",
      "[CV] pca__n_components=1, svm__kernel=linear, svm__gamma=0.1, svm__C=10 \n",
      "[CV]  pca__n_components=1, svm__kernel=linear, svm__gamma=0.1, svm__C=10, score=0.500000, total=   0.2s\n",
      "[CV] pca__n_components=1, svm__kernel=rbf, svm__gamma=0.1, svm__C=10 .\n",
      "[CV]  pca__n_components=1, svm__kernel=rbf, svm__gamma=0.1, svm__C=10, score=0.500000, total=   0.0s\n",
      "[CV] pca__n_components=1, svm__kernel=rbf, svm__gamma=0.1, svm__C=10 .\n",
      "[CV]  pca__n_components=1, svm__kernel=rbf, svm__gamma=0.1, svm__C=10, score=0.440000, total=   0.0s\n",
      "[CV] pca__n_components=1, svm__kernel=rbf, svm__gamma=0.1, svm__C=10 .\n",
      "[CV]  pca__n_components=1, svm__kernel=rbf, svm__gamma=0.1, svm__C=10, score=0.567568, total=   0.0s\n",
      "[CV] pca__n_components=1, svm__kernel=linear, svm__gamma=0.2, svm__C=10 \n",
      "[CV]  pca__n_components=1, svm__kernel=linear, svm__gamma=0.2, svm__C=10, score=0.513158, total=   0.1s\n",
      "[CV] pca__n_components=1, svm__kernel=linear, svm__gamma=0.2, svm__C=10 \n",
      "[CV]  pca__n_components=1, svm__kernel=linear, svm__gamma=0.2, svm__C=10, score=0.520000, total=   5.1s\n",
      "[CV] pca__n_components=1, svm__kernel=linear, svm__gamma=0.2, svm__C=10 \n",
      "[CV]  pca__n_components=1, svm__kernel=linear, svm__gamma=0.2, svm__C=10, score=0.500000, total=   0.2s\n",
      "[CV] pca__n_components=1, svm__kernel=rbf, svm__gamma=0.2, svm__C=10 .\n",
      "[CV]  pca__n_components=1, svm__kernel=rbf, svm__gamma=0.2, svm__C=10, score=0.565789, total=   0.0s\n",
      "[CV] pca__n_components=1, svm__kernel=rbf, svm__gamma=0.2, svm__C=10 .\n",
      "[CV]  pca__n_components=1, svm__kernel=rbf, svm__gamma=0.2, svm__C=10, score=0.493333, total=   0.0s\n",
      "[CV] pca__n_components=1, svm__kernel=rbf, svm__gamma=0.2, svm__C=10 .\n",
      "[CV]  pca__n_components=1, svm__kernel=rbf, svm__gamma=0.2, svm__C=10, score=0.486486, total=   0.0s\n",
      "[CV] pca__n_components=1, svm__kernel=linear, svm__gamma=0.3, svm__C=10 \n",
      "[CV]  pca__n_components=1, svm__kernel=linear, svm__gamma=0.3, svm__C=10, score=0.513158, total=   0.1s\n",
      "[CV] pca__n_components=1, svm__kernel=linear, svm__gamma=0.3, svm__C=10 \n",
      "[CV]  pca__n_components=1, svm__kernel=linear, svm__gamma=0.3, svm__C=10, score=0.520000, total=   5.1s\n",
      "[CV] pca__n_components=1, svm__kernel=linear, svm__gamma=0.3, svm__C=10 \n",
      "[CV]  pca__n_components=1, svm__kernel=linear, svm__gamma=0.3, svm__C=10, score=0.500000, total=   0.3s\n",
      "[CV] pca__n_components=1, svm__kernel=rbf, svm__gamma=0.3, svm__C=10 .\n",
      "[CV]  pca__n_components=1, svm__kernel=rbf, svm__gamma=0.3, svm__C=10, score=0.565789, total=   0.0s\n",
      "[CV] pca__n_components=1, svm__kernel=rbf, svm__gamma=0.3, svm__C=10 .\n",
      "[CV]  pca__n_components=1, svm__kernel=rbf, svm__gamma=0.3, svm__C=10, score=0.480000, total=   0.0s\n",
      "[CV] pca__n_components=1, svm__kernel=rbf, svm__gamma=0.3, svm__C=10 .\n",
      "[CV]  pca__n_components=1, svm__kernel=rbf, svm__gamma=0.3, svm__C=10, score=0.486486, total=   0.0s\n",
      "[CV] pca__n_components=2, svm__kernel=linear, svm__gamma=0.1, svm__C=0.05 \n",
      "[CV]  pca__n_components=2, svm__kernel=linear, svm__gamma=0.1, svm__C=0.05, score=0.605263, total=   0.0s\n",
      "[CV] pca__n_components=2, svm__kernel=linear, svm__gamma=0.1, svm__C=0.05 \n",
      "[CV]  pca__n_components=2, svm__kernel=linear, svm__gamma=0.1, svm__C=0.05, score=0.520000, total=   0.0s\n",
      "[CV] pca__n_components=2, svm__kernel=linear, svm__gamma=0.1, svm__C=0.05 \n",
      "[CV]  pca__n_components=2, svm__kernel=linear, svm__gamma=0.1, svm__C=0.05, score=0.608108, total=   0.0s\n",
      "[CV] pca__n_components=2, svm__kernel=rbf, svm__gamma=0.1, svm__C=0.05 \n",
      "[CV]  pca__n_components=2, svm__kernel=rbf, svm__gamma=0.1, svm__C=0.05, score=0.526316, total=   0.0s\n",
      "[CV] pca__n_components=2, svm__kernel=rbf, svm__gamma=0.1, svm__C=0.05 \n",
      "[CV]  pca__n_components=2, svm__kernel=rbf, svm__gamma=0.1, svm__C=0.05, score=0.520000, total=   0.0s\n",
      "[CV] pca__n_components=2, svm__kernel=rbf, svm__gamma=0.1, svm__C=0.05 \n",
      "[CV]  pca__n_components=2, svm__kernel=rbf, svm__gamma=0.1, svm__C=0.05, score=0.527027, total=   0.0s\n",
      "[CV] pca__n_components=2, svm__kernel=linear, svm__gamma=0.2, svm__C=0.05 \n",
      "[CV]  pca__n_components=2, svm__kernel=linear, svm__gamma=0.2, svm__C=0.05, score=0.605263, total=   0.0s\n",
      "[CV] pca__n_components=2, svm__kernel=linear, svm__gamma=0.2, svm__C=0.05 \n",
      "[CV]  pca__n_components=2, svm__kernel=linear, svm__gamma=0.2, svm__C=0.05, score=0.520000, total=   0.0s\n",
      "[CV] pca__n_components=2, svm__kernel=linear, svm__gamma=0.2, svm__C=0.05 \n",
      "[CV]  pca__n_components=2, svm__kernel=linear, svm__gamma=0.2, svm__C=0.05, score=0.608108, total=   0.0s\n",
      "[CV] pca__n_components=2, svm__kernel=rbf, svm__gamma=0.2, svm__C=0.05 \n",
      "[CV]  pca__n_components=2, svm__kernel=rbf, svm__gamma=0.2, svm__C=0.05, score=0.526316, total=   0.0s\n",
      "[CV] pca__n_components=2, svm__kernel=rbf, svm__gamma=0.2, svm__C=0.05 \n",
      "[CV]  pca__n_components=2, svm__kernel=rbf, svm__gamma=0.2, svm__C=0.05, score=0.520000, total=   0.0s\n",
      "[CV] pca__n_components=2, svm__kernel=rbf, svm__gamma=0.2, svm__C=0.05 \n",
      "[CV]  pca__n_components=2, svm__kernel=rbf, svm__gamma=0.2, svm__C=0.05, score=0.527027, total=   0.0s\n",
      "[CV] pca__n_components=2, svm__kernel=linear, svm__gamma=0.3, svm__C=0.05 \n",
      "[CV]  pca__n_components=2, svm__kernel=linear, svm__gamma=0.3, svm__C=0.05, score=0.605263, total=   0.0s\n",
      "[CV] pca__n_components=2, svm__kernel=linear, svm__gamma=0.3, svm__C=0.05 \n",
      "[CV]  pca__n_components=2, svm__kernel=linear, svm__gamma=0.3, svm__C=0.05, score=0.520000, total=   0.0s\n",
      "[CV] pca__n_components=2, svm__kernel=linear, svm__gamma=0.3, svm__C=0.05 \n",
      "[CV]  pca__n_components=2, svm__kernel=linear, svm__gamma=0.3, svm__C=0.05, score=0.608108, total=   0.0s\n",
      "[CV] pca__n_components=2, svm__kernel=rbf, svm__gamma=0.3, svm__C=0.05 \n",
      "[CV]  pca__n_components=2, svm__kernel=rbf, svm__gamma=0.3, svm__C=0.05, score=0.526316, total=   0.0s\n",
      "[CV] pca__n_components=2, svm__kernel=rbf, svm__gamma=0.3, svm__C=0.05 \n",
      "[CV]  pca__n_components=2, svm__kernel=rbf, svm__gamma=0.3, svm__C=0.05, score=0.520000, total=   0.0s\n",
      "[CV] pca__n_components=2, svm__kernel=rbf, svm__gamma=0.3, svm__C=0.05 \n",
      "[CV]  pca__n_components=2, svm__kernel=rbf, svm__gamma=0.3, svm__C=0.05, score=0.527027, total=   0.0s\n",
      "[CV] pca__n_components=2, svm__kernel=linear, svm__gamma=0.1, svm__C=0.1 \n",
      "[CV]  pca__n_components=2, svm__kernel=linear, svm__gamma=0.1, svm__C=0.1, score=0.605263, total=   0.0s\n",
      "[CV] pca__n_components=2, svm__kernel=linear, svm__gamma=0.1, svm__C=0.1 \n",
      "[CV]  pca__n_components=2, svm__kernel=linear, svm__gamma=0.1, svm__C=0.1, score=0.520000, total=   0.0s\n",
      "[CV] pca__n_components=2, svm__kernel=linear, svm__gamma=0.1, svm__C=0.1 \n",
      "[CV]  pca__n_components=2, svm__kernel=linear, svm__gamma=0.1, svm__C=0.1, score=0.608108, total=   0.0s\n",
      "[CV] pca__n_components=2, svm__kernel=rbf, svm__gamma=0.1, svm__C=0.1 \n",
      "[CV]  pca__n_components=2, svm__kernel=rbf, svm__gamma=0.1, svm__C=0.1, score=0.526316, total=   0.0s\n",
      "[CV] pca__n_components=2, svm__kernel=rbf, svm__gamma=0.1, svm__C=0.1 \n",
      "[CV]  pca__n_components=2, svm__kernel=rbf, svm__gamma=0.1, svm__C=0.1, score=0.520000, total=   0.0s\n",
      "[CV] pca__n_components=2, svm__kernel=rbf, svm__gamma=0.1, svm__C=0.1 \n",
      "[CV]  pca__n_components=2, svm__kernel=rbf, svm__gamma=0.1, svm__C=0.1, score=0.527027, total=   0.0s\n",
      "[CV] pca__n_components=2, svm__kernel=linear, svm__gamma=0.2, svm__C=0.1 \n",
      "[CV]  pca__n_components=2, svm__kernel=linear, svm__gamma=0.2, svm__C=0.1, score=0.605263, total=   0.0s\n",
      "[CV] pca__n_components=2, svm__kernel=linear, svm__gamma=0.2, svm__C=0.1 \n",
      "[CV]  pca__n_components=2, svm__kernel=linear, svm__gamma=0.2, svm__C=0.1, score=0.520000, total=   0.0s\n",
      "[CV] pca__n_components=2, svm__kernel=linear, svm__gamma=0.2, svm__C=0.1 \n",
      "[CV]  pca__n_components=2, svm__kernel=linear, svm__gamma=0.2, svm__C=0.1, score=0.608108, total=   0.0s\n",
      "[CV] pca__n_components=2, svm__kernel=rbf, svm__gamma=0.2, svm__C=0.1 \n",
      "[CV]  pca__n_components=2, svm__kernel=rbf, svm__gamma=0.2, svm__C=0.1, score=0.526316, total=   0.0s\n",
      "[CV] pca__n_components=2, svm__kernel=rbf, svm__gamma=0.2, svm__C=0.1 \n",
      "[CV]  pca__n_components=2, svm__kernel=rbf, svm__gamma=0.2, svm__C=0.1, score=0.520000, total=   0.0s\n",
      "[CV] pca__n_components=2, svm__kernel=rbf, svm__gamma=0.2, svm__C=0.1 \n",
      "[CV]  pca__n_components=2, svm__kernel=rbf, svm__gamma=0.2, svm__C=0.1, score=0.527027, total=   0.0s\n",
      "[CV] pca__n_components=2, svm__kernel=linear, svm__gamma=0.3, svm__C=0.1 \n",
      "[CV]  pca__n_components=2, svm__kernel=linear, svm__gamma=0.3, svm__C=0.1, score=0.605263, total=   0.0s\n",
      "[CV] pca__n_components=2, svm__kernel=linear, svm__gamma=0.3, svm__C=0.1 \n",
      "[CV]  pca__n_components=2, svm__kernel=linear, svm__gamma=0.3, svm__C=0.1, score=0.520000, total=   0.0s\n",
      "[CV] pca__n_components=2, svm__kernel=linear, svm__gamma=0.3, svm__C=0.1 \n",
      "[CV]  pca__n_components=2, svm__kernel=linear, svm__gamma=0.3, svm__C=0.1, score=0.608108, total=   0.0s\n",
      "[CV] pca__n_components=2, svm__kernel=rbf, svm__gamma=0.3, svm__C=0.1 \n",
      "[CV]  pca__n_components=2, svm__kernel=rbf, svm__gamma=0.3, svm__C=0.1, score=0.526316, total=   0.0s\n",
      "[CV] pca__n_components=2, svm__kernel=rbf, svm__gamma=0.3, svm__C=0.1 \n",
      "[CV]  pca__n_components=2, svm__kernel=rbf, svm__gamma=0.3, svm__C=0.1, score=0.520000, total=   0.0s\n",
      "[CV] pca__n_components=2, svm__kernel=rbf, svm__gamma=0.3, svm__C=0.1 \n",
      "[CV]  pca__n_components=2, svm__kernel=rbf, svm__gamma=0.3, svm__C=0.1, score=0.527027, total=   0.0s\n",
      "[CV] pca__n_components=2, svm__kernel=linear, svm__gamma=0.1, svm__C=0.5 \n",
      "[CV]  pca__n_components=2, svm__kernel=linear, svm__gamma=0.1, svm__C=0.5, score=0.605263, total=   0.0s\n",
      "[CV] pca__n_components=2, svm__kernel=linear, svm__gamma=0.1, svm__C=0.5 \n",
      "[CV]  pca__n_components=2, svm__kernel=linear, svm__gamma=0.1, svm__C=0.5, score=0.520000, total=   0.0s\n",
      "[CV] pca__n_components=2, svm__kernel=linear, svm__gamma=0.1, svm__C=0.5 \n",
      "[CV]  pca__n_components=2, svm__kernel=linear, svm__gamma=0.1, svm__C=0.5, score=0.608108, total=   0.0s\n",
      "[CV] pca__n_components=2, svm__kernel=rbf, svm__gamma=0.1, svm__C=0.5 \n",
      "[CV]  pca__n_components=2, svm__kernel=rbf, svm__gamma=0.1, svm__C=0.5, score=0.500000, total=   0.0s\n",
      "[CV] pca__n_components=2, svm__kernel=rbf, svm__gamma=0.1, svm__C=0.5 \n",
      "[CV]  pca__n_components=2, svm__kernel=rbf, svm__gamma=0.1, svm__C=0.5, score=0.520000, total=   0.0s\n",
      "[CV] pca__n_components=2, svm__kernel=rbf, svm__gamma=0.1, svm__C=0.5 \n",
      "[CV]  pca__n_components=2, svm__kernel=rbf, svm__gamma=0.1, svm__C=0.5, score=0.567568, total=   0.0s\n",
      "[CV] pca__n_components=2, svm__kernel=linear, svm__gamma=0.2, svm__C=0.5 \n",
      "[CV]  pca__n_components=2, svm__kernel=linear, svm__gamma=0.2, svm__C=0.5, score=0.605263, total=   0.0s\n",
      "[CV] pca__n_components=2, svm__kernel=linear, svm__gamma=0.2, svm__C=0.5 \n",
      "[CV]  pca__n_components=2, svm__kernel=linear, svm__gamma=0.2, svm__C=0.5, score=0.520000, total=   0.0s\n",
      "[CV] pca__n_components=2, svm__kernel=linear, svm__gamma=0.2, svm__C=0.5 \n",
      "[CV]  pca__n_components=2, svm__kernel=linear, svm__gamma=0.2, svm__C=0.5, score=0.608108, total=   0.0s\n",
      "[CV] pca__n_components=2, svm__kernel=rbf, svm__gamma=0.2, svm__C=0.5 \n",
      "[CV]  pca__n_components=2, svm__kernel=rbf, svm__gamma=0.2, svm__C=0.5, score=0.513158, total=   0.0s\n",
      "[CV] pca__n_components=2, svm__kernel=rbf, svm__gamma=0.2, svm__C=0.5 \n",
      "[CV]  pca__n_components=2, svm__kernel=rbf, svm__gamma=0.2, svm__C=0.5, score=0.520000, total=   0.0s\n",
      "[CV] pca__n_components=2, svm__kernel=rbf, svm__gamma=0.2, svm__C=0.5 \n",
      "[CV]  pca__n_components=2, svm__kernel=rbf, svm__gamma=0.2, svm__C=0.5, score=0.540541, total=   0.0s\n",
      "[CV] pca__n_components=2, svm__kernel=linear, svm__gamma=0.3, svm__C=0.5 \n",
      "[CV]  pca__n_components=2, svm__kernel=linear, svm__gamma=0.3, svm__C=0.5, score=0.605263, total=   0.0s\n",
      "[CV] pca__n_components=2, svm__kernel=linear, svm__gamma=0.3, svm__C=0.5 \n",
      "[CV]  pca__n_components=2, svm__kernel=linear, svm__gamma=0.3, svm__C=0.5, score=0.520000, total=   0.0s\n",
      "[CV] pca__n_components=2, svm__kernel=linear, svm__gamma=0.3, svm__C=0.5 \n",
      "[CV]  pca__n_components=2, svm__kernel=linear, svm__gamma=0.3, svm__C=0.5, score=0.608108, total=   0.0s\n",
      "[CV] pca__n_components=2, svm__kernel=rbf, svm__gamma=0.3, svm__C=0.5 \n",
      "[CV]  pca__n_components=2, svm__kernel=rbf, svm__gamma=0.3, svm__C=0.5, score=0.526316, total=   0.0s\n",
      "[CV] pca__n_components=2, svm__kernel=rbf, svm__gamma=0.3, svm__C=0.5 \n",
      "[CV]  pca__n_components=2, svm__kernel=rbf, svm__gamma=0.3, svm__C=0.5, score=0.520000, total=   0.0s\n",
      "[CV] pca__n_components=2, svm__kernel=rbf, svm__gamma=0.3, svm__C=0.5 \n",
      "[CV]  pca__n_components=2, svm__kernel=rbf, svm__gamma=0.3, svm__C=0.5, score=0.527027, total=   0.0s\n",
      "[CV] pca__n_components=2, svm__kernel=linear, svm__gamma=0.1, svm__C=1 \n",
      "[CV]  pca__n_components=2, svm__kernel=linear, svm__gamma=0.1, svm__C=1, score=0.605263, total=   0.0s\n",
      "[CV] pca__n_components=2, svm__kernel=linear, svm__gamma=0.1, svm__C=1 \n",
      "[CV]  pca__n_components=2, svm__kernel=linear, svm__gamma=0.1, svm__C=1, score=0.520000, total=   0.0s\n",
      "[CV] pca__n_components=2, svm__kernel=linear, svm__gamma=0.1, svm__C=1 \n",
      "[CV]  pca__n_components=2, svm__kernel=linear, svm__gamma=0.1, svm__C=1, score=0.608108, total=   0.0s\n",
      "[CV] pca__n_components=2, svm__kernel=rbf, svm__gamma=0.1, svm__C=1 ..\n",
      "[CV]  pca__n_components=2, svm__kernel=rbf, svm__gamma=0.1, svm__C=1, score=0.500000, total=   0.0s\n",
      "[CV] pca__n_components=2, svm__kernel=rbf, svm__gamma=0.1, svm__C=1 ..\n",
      "[CV]  pca__n_components=2, svm__kernel=rbf, svm__gamma=0.1, svm__C=1, score=0.533333, total=   0.0s\n",
      "[CV] pca__n_components=2, svm__kernel=rbf, svm__gamma=0.1, svm__C=1 ..\n",
      "[CV]  pca__n_components=2, svm__kernel=rbf, svm__gamma=0.1, svm__C=1, score=0.540541, total=   0.0s\n",
      "[CV] pca__n_components=2, svm__kernel=linear, svm__gamma=0.2, svm__C=1 \n",
      "[CV]  pca__n_components=2, svm__kernel=linear, svm__gamma=0.2, svm__C=1, score=0.605263, total=   0.0s\n",
      "[CV] pca__n_components=2, svm__kernel=linear, svm__gamma=0.2, svm__C=1 \n",
      "[CV]  pca__n_components=2, svm__kernel=linear, svm__gamma=0.2, svm__C=1, score=0.520000, total=   0.0s\n",
      "[CV] pca__n_components=2, svm__kernel=linear, svm__gamma=0.2, svm__C=1 \n",
      "[CV]  pca__n_components=2, svm__kernel=linear, svm__gamma=0.2, svm__C=1, score=0.608108, total=   0.0s\n",
      "[CV] pca__n_components=2, svm__kernel=rbf, svm__gamma=0.2, svm__C=1 ..\n",
      "[CV]  pca__n_components=2, svm__kernel=rbf, svm__gamma=0.2, svm__C=1, score=0.460526, total=   0.0s\n",
      "[CV] pca__n_components=2, svm__kernel=rbf, svm__gamma=0.2, svm__C=1 ..\n",
      "[CV]  pca__n_components=2, svm__kernel=rbf, svm__gamma=0.2, svm__C=1, score=0.506667, total=   0.0s\n",
      "[CV] pca__n_components=2, svm__kernel=rbf, svm__gamma=0.2, svm__C=1 ..\n",
      "[CV]  pca__n_components=2, svm__kernel=rbf, svm__gamma=0.2, svm__C=1, score=0.567568, total=   0.0s\n",
      "[CV] pca__n_components=2, svm__kernel=linear, svm__gamma=0.3, svm__C=1 \n",
      "[CV]  pca__n_components=2, svm__kernel=linear, svm__gamma=0.3, svm__C=1, score=0.605263, total=   0.0s\n",
      "[CV] pca__n_components=2, svm__kernel=linear, svm__gamma=0.3, svm__C=1 \n",
      "[CV]  pca__n_components=2, svm__kernel=linear, svm__gamma=0.3, svm__C=1, score=0.520000, total=   0.0s\n",
      "[CV] pca__n_components=2, svm__kernel=linear, svm__gamma=0.3, svm__C=1 \n",
      "[CV]  pca__n_components=2, svm__kernel=linear, svm__gamma=0.3, svm__C=1, score=0.608108, total=   0.0s\n",
      "[CV] pca__n_components=2, svm__kernel=rbf, svm__gamma=0.3, svm__C=1 ..\n",
      "[CV]  pca__n_components=2, svm__kernel=rbf, svm__gamma=0.3, svm__C=1, score=0.447368, total=   0.0s\n",
      "[CV] pca__n_components=2, svm__kernel=rbf, svm__gamma=0.3, svm__C=1 ..\n",
      "[CV]  pca__n_components=2, svm__kernel=rbf, svm__gamma=0.3, svm__C=1, score=0.533333, total=   0.0s\n",
      "[CV] pca__n_components=2, svm__kernel=rbf, svm__gamma=0.3, svm__C=1 ..\n",
      "[CV]  pca__n_components=2, svm__kernel=rbf, svm__gamma=0.3, svm__C=1, score=0.581081, total=   0.0s\n",
      "[CV] pca__n_components=2, svm__kernel=linear, svm__gamma=0.1, svm__C=10 \n",
      "[CV]  pca__n_components=2, svm__kernel=linear, svm__gamma=0.1, svm__C=10, score=0.605263, total=   0.2s\n",
      "[CV] pca__n_components=2, svm__kernel=linear, svm__gamma=0.1, svm__C=10 \n",
      "[CV]  pca__n_components=2, svm__kernel=linear, svm__gamma=0.1, svm__C=10, score=0.520000, total=   0.0s\n",
      "[CV] pca__n_components=2, svm__kernel=linear, svm__gamma=0.1, svm__C=10 \n",
      "[CV]  pca__n_components=2, svm__kernel=linear, svm__gamma=0.1, svm__C=10, score=0.608108, total=   0.6s\n",
      "[CV] pca__n_components=2, svm__kernel=rbf, svm__gamma=0.1, svm__C=10 .\n",
      "[CV]  pca__n_components=2, svm__kernel=rbf, svm__gamma=0.1, svm__C=10, score=0.500000, total=   0.0s\n",
      "[CV] pca__n_components=2, svm__kernel=rbf, svm__gamma=0.1, svm__C=10 .\n",
      "[CV]  pca__n_components=2, svm__kernel=rbf, svm__gamma=0.1, svm__C=10, score=0.533333, total=   0.0s\n",
      "[CV] pca__n_components=2, svm__kernel=rbf, svm__gamma=0.1, svm__C=10 .\n",
      "[CV]  pca__n_components=2, svm__kernel=rbf, svm__gamma=0.1, svm__C=10, score=0.581081, total=   0.0s\n",
      "[CV] pca__n_components=2, svm__kernel=linear, svm__gamma=0.2, svm__C=10 \n",
      "[CV]  pca__n_components=2, svm__kernel=linear, svm__gamma=0.2, svm__C=10, score=0.605263, total=   0.2s\n",
      "[CV] pca__n_components=2, svm__kernel=linear, svm__gamma=0.2, svm__C=10 \n",
      "[CV]  pca__n_components=2, svm__kernel=linear, svm__gamma=0.2, svm__C=10, score=0.520000, total=   0.1s\n",
      "[CV] pca__n_components=2, svm__kernel=linear, svm__gamma=0.2, svm__C=10 \n",
      "[CV]  pca__n_components=2, svm__kernel=linear, svm__gamma=0.2, svm__C=10, score=0.608108, total=   0.6s\n",
      "[CV] pca__n_components=2, svm__kernel=rbf, svm__gamma=0.2, svm__C=10 .\n",
      "[CV]  pca__n_components=2, svm__kernel=rbf, svm__gamma=0.2, svm__C=10, score=0.473684, total=   0.0s\n",
      "[CV] pca__n_components=2, svm__kernel=rbf, svm__gamma=0.2, svm__C=10 .\n",
      "[CV]  pca__n_components=2, svm__kernel=rbf, svm__gamma=0.2, svm__C=10, score=0.546667, total=   0.0s\n",
      "[CV] pca__n_components=2, svm__kernel=rbf, svm__gamma=0.2, svm__C=10 .\n",
      "[CV]  pca__n_components=2, svm__kernel=rbf, svm__gamma=0.2, svm__C=10, score=0.581081, total=   0.0s\n",
      "[CV] pca__n_components=2, svm__kernel=linear, svm__gamma=0.3, svm__C=10 \n",
      "[CV]  pca__n_components=2, svm__kernel=linear, svm__gamma=0.3, svm__C=10, score=0.605263, total=   0.2s\n",
      "[CV] pca__n_components=2, svm__kernel=linear, svm__gamma=0.3, svm__C=10 \n",
      "[CV]  pca__n_components=2, svm__kernel=linear, svm__gamma=0.3, svm__C=10, score=0.520000, total=   0.1s\n",
      "[CV] pca__n_components=2, svm__kernel=linear, svm__gamma=0.3, svm__C=10 \n",
      "[CV]  pca__n_components=2, svm__kernel=linear, svm__gamma=0.3, svm__C=10, score=0.608108, total=   0.6s\n",
      "[CV] pca__n_components=2, svm__kernel=rbf, svm__gamma=0.3, svm__C=10 .\n",
      "[CV]  pca__n_components=2, svm__kernel=rbf, svm__gamma=0.3, svm__C=10, score=0.460526, total=   0.0s\n",
      "[CV] pca__n_components=2, svm__kernel=rbf, svm__gamma=0.3, svm__C=10 .\n",
      "[CV]  pca__n_components=2, svm__kernel=rbf, svm__gamma=0.3, svm__C=10, score=0.520000, total=   0.0s\n",
      "[CV] pca__n_components=2, svm__kernel=rbf, svm__gamma=0.3, svm__C=10 .\n",
      "[CV]  pca__n_components=2, svm__kernel=rbf, svm__gamma=0.3, svm__C=10, score=0.567568, total=   0.0s\n",
      "[CV] pca__n_components=3, svm__kernel=linear, svm__gamma=0.1, svm__C=0.05 \n",
      "[CV]  pca__n_components=3, svm__kernel=linear, svm__gamma=0.1, svm__C=0.05, score=0.644737, total=   0.0s\n",
      "[CV] pca__n_components=3, svm__kernel=linear, svm__gamma=0.1, svm__C=0.05 \n",
      "[CV]  pca__n_components=3, svm__kernel=linear, svm__gamma=0.1, svm__C=0.05, score=0.666667, total=   0.0s\n",
      "[CV] pca__n_components=3, svm__kernel=linear, svm__gamma=0.1, svm__C=0.05 \n",
      "[CV]  pca__n_components=3, svm__kernel=linear, svm__gamma=0.1, svm__C=0.05, score=0.635135, total=   0.0s\n",
      "[CV] pca__n_components=3, svm__kernel=rbf, svm__gamma=0.1, svm__C=0.05 \n",
      "[CV]  pca__n_components=3, svm__kernel=rbf, svm__gamma=0.1, svm__C=0.05, score=0.526316, total=   0.0s\n",
      "[CV] pca__n_components=3, svm__kernel=rbf, svm__gamma=0.1, svm__C=0.05 \n",
      "[CV]  pca__n_components=3, svm__kernel=rbf, svm__gamma=0.1, svm__C=0.05, score=0.520000, total=   0.0s\n",
      "[CV] pca__n_components=3, svm__kernel=rbf, svm__gamma=0.1, svm__C=0.05 \n",
      "[CV]  pca__n_components=3, svm__kernel=rbf, svm__gamma=0.1, svm__C=0.05, score=0.527027, total=   0.0s\n",
      "[CV] pca__n_components=3, svm__kernel=linear, svm__gamma=0.2, svm__C=0.05 \n",
      "[CV]  pca__n_components=3, svm__kernel=linear, svm__gamma=0.2, svm__C=0.05, score=0.644737, total=   0.0s\n",
      "[CV] pca__n_components=3, svm__kernel=linear, svm__gamma=0.2, svm__C=0.05 \n",
      "[CV]  pca__n_components=3, svm__kernel=linear, svm__gamma=0.2, svm__C=0.05, score=0.666667, total=   0.0s\n",
      "[CV] pca__n_components=3, svm__kernel=linear, svm__gamma=0.2, svm__C=0.05 \n",
      "[CV]  pca__n_components=3, svm__kernel=linear, svm__gamma=0.2, svm__C=0.05, score=0.635135, total=   0.0s\n",
      "[CV] pca__n_components=3, svm__kernel=rbf, svm__gamma=0.2, svm__C=0.05 \n",
      "[CV]  pca__n_components=3, svm__kernel=rbf, svm__gamma=0.2, svm__C=0.05, score=0.526316, total=   0.0s\n",
      "[CV] pca__n_components=3, svm__kernel=rbf, svm__gamma=0.2, svm__C=0.05 \n",
      "[CV]  pca__n_components=3, svm__kernel=rbf, svm__gamma=0.2, svm__C=0.05, score=0.520000, total=   0.0s\n",
      "[CV] pca__n_components=3, svm__kernel=rbf, svm__gamma=0.2, svm__C=0.05 \n",
      "[CV]  pca__n_components=3, svm__kernel=rbf, svm__gamma=0.2, svm__C=0.05, score=0.527027, total=   0.0s\n",
      "[CV] pca__n_components=3, svm__kernel=linear, svm__gamma=0.3, svm__C=0.05 \n",
      "[CV]  pca__n_components=3, svm__kernel=linear, svm__gamma=0.3, svm__C=0.05, score=0.644737, total=   0.0s\n",
      "[CV] pca__n_components=3, svm__kernel=linear, svm__gamma=0.3, svm__C=0.05 \n",
      "[CV]  pca__n_components=3, svm__kernel=linear, svm__gamma=0.3, svm__C=0.05, score=0.666667, total=   0.0s\n",
      "[CV] pca__n_components=3, svm__kernel=linear, svm__gamma=0.3, svm__C=0.05 \n",
      "[CV]  pca__n_components=3, svm__kernel=linear, svm__gamma=0.3, svm__C=0.05, score=0.635135, total=   0.0s\n",
      "[CV] pca__n_components=3, svm__kernel=rbf, svm__gamma=0.3, svm__C=0.05 \n",
      "[CV]  pca__n_components=3, svm__kernel=rbf, svm__gamma=0.3, svm__C=0.05, score=0.526316, total=   0.0s\n",
      "[CV] pca__n_components=3, svm__kernel=rbf, svm__gamma=0.3, svm__C=0.05 \n",
      "[CV]  pca__n_components=3, svm__kernel=rbf, svm__gamma=0.3, svm__C=0.05, score=0.520000, total=   0.0s\n",
      "[CV] pca__n_components=3, svm__kernel=rbf, svm__gamma=0.3, svm__C=0.05 \n",
      "[CV]  pca__n_components=3, svm__kernel=rbf, svm__gamma=0.3, svm__C=0.05, score=0.527027, total=   0.0s\n",
      "[CV] pca__n_components=3, svm__kernel=linear, svm__gamma=0.1, svm__C=0.1 \n",
      "[CV]  pca__n_components=3, svm__kernel=linear, svm__gamma=0.1, svm__C=0.1, score=0.644737, total=   0.0s\n",
      "[CV] pca__n_components=3, svm__kernel=linear, svm__gamma=0.1, svm__C=0.1 \n",
      "[CV]  pca__n_components=3, svm__kernel=linear, svm__gamma=0.1, svm__C=0.1, score=0.666667, total=   0.0s\n",
      "[CV] pca__n_components=3, svm__kernel=linear, svm__gamma=0.1, svm__C=0.1 \n",
      "[CV]  pca__n_components=3, svm__kernel=linear, svm__gamma=0.1, svm__C=0.1, score=0.635135, total=   0.0s\n",
      "[CV] pca__n_components=3, svm__kernel=rbf, svm__gamma=0.1, svm__C=0.1 \n",
      "[CV]  pca__n_components=3, svm__kernel=rbf, svm__gamma=0.1, svm__C=0.1, score=0.526316, total=   0.0s\n",
      "[CV] pca__n_components=3, svm__kernel=rbf, svm__gamma=0.1, svm__C=0.1 \n",
      "[CV]  pca__n_components=3, svm__kernel=rbf, svm__gamma=0.1, svm__C=0.1, score=0.520000, total=   0.0s\n",
      "[CV] pca__n_components=3, svm__kernel=rbf, svm__gamma=0.1, svm__C=0.1 \n",
      "[CV]  pca__n_components=3, svm__kernel=rbf, svm__gamma=0.1, svm__C=0.1, score=0.527027, total=   0.0s\n",
      "[CV] pca__n_components=3, svm__kernel=linear, svm__gamma=0.2, svm__C=0.1 \n",
      "[CV]  pca__n_components=3, svm__kernel=linear, svm__gamma=0.2, svm__C=0.1, score=0.644737, total=   0.0s\n",
      "[CV] pca__n_components=3, svm__kernel=linear, svm__gamma=0.2, svm__C=0.1 \n",
      "[CV]  pca__n_components=3, svm__kernel=linear, svm__gamma=0.2, svm__C=0.1, score=0.666667, total=   0.0s\n",
      "[CV] pca__n_components=3, svm__kernel=linear, svm__gamma=0.2, svm__C=0.1 \n",
      "[CV]  pca__n_components=3, svm__kernel=linear, svm__gamma=0.2, svm__C=0.1, score=0.635135, total=   0.0s\n",
      "[CV] pca__n_components=3, svm__kernel=rbf, svm__gamma=0.2, svm__C=0.1 \n",
      "[CV]  pca__n_components=3, svm__kernel=rbf, svm__gamma=0.2, svm__C=0.1, score=0.526316, total=   0.0s\n",
      "[CV] pca__n_components=3, svm__kernel=rbf, svm__gamma=0.2, svm__C=0.1 \n",
      "[CV]  pca__n_components=3, svm__kernel=rbf, svm__gamma=0.2, svm__C=0.1, score=0.520000, total=   0.0s\n",
      "[CV] pca__n_components=3, svm__kernel=rbf, svm__gamma=0.2, svm__C=0.1 \n",
      "[CV]  pca__n_components=3, svm__kernel=rbf, svm__gamma=0.2, svm__C=0.1, score=0.527027, total=   0.0s\n",
      "[CV] pca__n_components=3, svm__kernel=linear, svm__gamma=0.3, svm__C=0.1 \n",
      "[CV]  pca__n_components=3, svm__kernel=linear, svm__gamma=0.3, svm__C=0.1, score=0.644737, total=   0.0s\n",
      "[CV] pca__n_components=3, svm__kernel=linear, svm__gamma=0.3, svm__C=0.1 \n",
      "[CV]  pca__n_components=3, svm__kernel=linear, svm__gamma=0.3, svm__C=0.1, score=0.666667, total=   0.0s\n",
      "[CV] pca__n_components=3, svm__kernel=linear, svm__gamma=0.3, svm__C=0.1 \n",
      "[CV]  pca__n_components=3, svm__kernel=linear, svm__gamma=0.3, svm__C=0.1, score=0.635135, total=   0.0s\n",
      "[CV] pca__n_components=3, svm__kernel=rbf, svm__gamma=0.3, svm__C=0.1 \n",
      "[CV]  pca__n_components=3, svm__kernel=rbf, svm__gamma=0.3, svm__C=0.1, score=0.526316, total=   0.0s\n",
      "[CV] pca__n_components=3, svm__kernel=rbf, svm__gamma=0.3, svm__C=0.1 \n",
      "[CV]  pca__n_components=3, svm__kernel=rbf, svm__gamma=0.3, svm__C=0.1, score=0.520000, total=   0.0s\n",
      "[CV] pca__n_components=3, svm__kernel=rbf, svm__gamma=0.3, svm__C=0.1 \n",
      "[CV]  pca__n_components=3, svm__kernel=rbf, svm__gamma=0.3, svm__C=0.1, score=0.527027, total=   0.0s\n",
      "[CV] pca__n_components=3, svm__kernel=linear, svm__gamma=0.1, svm__C=0.5 \n",
      "[CV]  pca__n_components=3, svm__kernel=linear, svm__gamma=0.1, svm__C=0.5, score=0.644737, total=   0.0s\n",
      "[CV] pca__n_components=3, svm__kernel=linear, svm__gamma=0.1, svm__C=0.5 \n",
      "[CV]  pca__n_components=3, svm__kernel=linear, svm__gamma=0.1, svm__C=0.5, score=0.666667, total=   0.0s\n",
      "[CV] pca__n_components=3, svm__kernel=linear, svm__gamma=0.1, svm__C=0.5 \n",
      "[CV]  pca__n_components=3, svm__kernel=linear, svm__gamma=0.1, svm__C=0.5, score=0.635135, total=   0.0s\n",
      "[CV] pca__n_components=3, svm__kernel=rbf, svm__gamma=0.1, svm__C=0.5 \n",
      "[CV]  pca__n_components=3, svm__kernel=rbf, svm__gamma=0.1, svm__C=0.5, score=0.526316, total=   0.0s\n",
      "[CV] pca__n_components=3, svm__kernel=rbf, svm__gamma=0.1, svm__C=0.5 \n",
      "[CV]  pca__n_components=3, svm__kernel=rbf, svm__gamma=0.1, svm__C=0.5, score=0.520000, total=   0.0s\n",
      "[CV] pca__n_components=3, svm__kernel=rbf, svm__gamma=0.1, svm__C=0.5 \n",
      "[CV]  pca__n_components=3, svm__kernel=rbf, svm__gamma=0.1, svm__C=0.5, score=0.527027, total=   0.0s\n",
      "[CV] pca__n_components=3, svm__kernel=linear, svm__gamma=0.2, svm__C=0.5 \n",
      "[CV]  pca__n_components=3, svm__kernel=linear, svm__gamma=0.2, svm__C=0.5, score=0.644737, total=   0.0s\n",
      "[CV] pca__n_components=3, svm__kernel=linear, svm__gamma=0.2, svm__C=0.5 \n",
      "[CV]  pca__n_components=3, svm__kernel=linear, svm__gamma=0.2, svm__C=0.5, score=0.666667, total=   0.0s\n",
      "[CV] pca__n_components=3, svm__kernel=linear, svm__gamma=0.2, svm__C=0.5 \n",
      "[CV]  pca__n_components=3, svm__kernel=linear, svm__gamma=0.2, svm__C=0.5, score=0.635135, total=   0.0s\n",
      "[CV] pca__n_components=3, svm__kernel=rbf, svm__gamma=0.2, svm__C=0.5 \n",
      "[CV]  pca__n_components=3, svm__kernel=rbf, svm__gamma=0.2, svm__C=0.5, score=0.526316, total=   0.0s\n",
      "[CV] pca__n_components=3, svm__kernel=rbf, svm__gamma=0.2, svm__C=0.5 \n",
      "[CV]  pca__n_components=3, svm__kernel=rbf, svm__gamma=0.2, svm__C=0.5, score=0.520000, total=   0.0s\n",
      "[CV] pca__n_components=3, svm__kernel=rbf, svm__gamma=0.2, svm__C=0.5 \n",
      "[CV]  pca__n_components=3, svm__kernel=rbf, svm__gamma=0.2, svm__C=0.5, score=0.527027, total=   0.0s\n",
      "[CV] pca__n_components=3, svm__kernel=linear, svm__gamma=0.3, svm__C=0.5 \n",
      "[CV]  pca__n_components=3, svm__kernel=linear, svm__gamma=0.3, svm__C=0.5, score=0.644737, total=   0.0s\n",
      "[CV] pca__n_components=3, svm__kernel=linear, svm__gamma=0.3, svm__C=0.5 \n",
      "[CV]  pca__n_components=3, svm__kernel=linear, svm__gamma=0.3, svm__C=0.5, score=0.666667, total=   0.0s\n",
      "[CV] pca__n_components=3, svm__kernel=linear, svm__gamma=0.3, svm__C=0.5 \n",
      "[CV]  pca__n_components=3, svm__kernel=linear, svm__gamma=0.3, svm__C=0.5, score=0.635135, total=   0.0s\n",
      "[CV] pca__n_components=3, svm__kernel=rbf, svm__gamma=0.3, svm__C=0.5 \n",
      "[CV]  pca__n_components=3, svm__kernel=rbf, svm__gamma=0.3, svm__C=0.5, score=0.526316, total=   0.0s\n",
      "[CV] pca__n_components=3, svm__kernel=rbf, svm__gamma=0.3, svm__C=0.5 \n",
      "[CV]  pca__n_components=3, svm__kernel=rbf, svm__gamma=0.3, svm__C=0.5, score=0.520000, total=   0.0s\n",
      "[CV] pca__n_components=3, svm__kernel=rbf, svm__gamma=0.3, svm__C=0.5 \n",
      "[CV]  pca__n_components=3, svm__kernel=rbf, svm__gamma=0.3, svm__C=0.5, score=0.527027, total=   0.0s\n",
      "[CV] pca__n_components=3, svm__kernel=linear, svm__gamma=0.1, svm__C=1 \n",
      "[CV]  pca__n_components=3, svm__kernel=linear, svm__gamma=0.1, svm__C=1, score=0.644737, total=   0.0s\n",
      "[CV] pca__n_components=3, svm__kernel=linear, svm__gamma=0.1, svm__C=1 \n",
      "[CV]  pca__n_components=3, svm__kernel=linear, svm__gamma=0.1, svm__C=1, score=0.666667, total=   0.0s\n",
      "[CV] pca__n_components=3, svm__kernel=linear, svm__gamma=0.1, svm__C=1 \n",
      "[CV]  pca__n_components=3, svm__kernel=linear, svm__gamma=0.1, svm__C=1, score=0.635135, total=   0.0s\n",
      "[CV] pca__n_components=3, svm__kernel=rbf, svm__gamma=0.1, svm__C=1 ..\n",
      "[CV]  pca__n_components=3, svm__kernel=rbf, svm__gamma=0.1, svm__C=1, score=0.552632, total=   0.0s\n",
      "[CV] pca__n_components=3, svm__kernel=rbf, svm__gamma=0.1, svm__C=1 ..\n",
      "[CV]  pca__n_components=3, svm__kernel=rbf, svm__gamma=0.1, svm__C=1, score=0.520000, total=   0.0s\n",
      "[CV] pca__n_components=3, svm__kernel=rbf, svm__gamma=0.1, svm__C=1 ..\n",
      "[CV]  pca__n_components=3, svm__kernel=rbf, svm__gamma=0.1, svm__C=1, score=0.567568, total=   0.0s\n",
      "[CV] pca__n_components=3, svm__kernel=linear, svm__gamma=0.2, svm__C=1 \n",
      "[CV]  pca__n_components=3, svm__kernel=linear, svm__gamma=0.2, svm__C=1, score=0.644737, total=   0.0s\n",
      "[CV] pca__n_components=3, svm__kernel=linear, svm__gamma=0.2, svm__C=1 \n",
      "[CV]  pca__n_components=3, svm__kernel=linear, svm__gamma=0.2, svm__C=1, score=0.666667, total=   0.0s\n",
      "[CV] pca__n_components=3, svm__kernel=linear, svm__gamma=0.2, svm__C=1 \n",
      "[CV]  pca__n_components=3, svm__kernel=linear, svm__gamma=0.2, svm__C=1, score=0.635135, total=   0.0s\n",
      "[CV] pca__n_components=3, svm__kernel=rbf, svm__gamma=0.2, svm__C=1 ..\n",
      "[CV]  pca__n_components=3, svm__kernel=rbf, svm__gamma=0.2, svm__C=1, score=0.513158, total=   0.0s\n",
      "[CV] pca__n_components=3, svm__kernel=rbf, svm__gamma=0.2, svm__C=1 ..\n",
      "[CV]  pca__n_components=3, svm__kernel=rbf, svm__gamma=0.2, svm__C=1, score=0.506667, total=   0.0s\n",
      "[CV] pca__n_components=3, svm__kernel=rbf, svm__gamma=0.2, svm__C=1 ..\n",
      "[CV]  pca__n_components=3, svm__kernel=rbf, svm__gamma=0.2, svm__C=1, score=0.540541, total=   0.0s\n",
      "[CV] pca__n_components=3, svm__kernel=linear, svm__gamma=0.3, svm__C=1 \n",
      "[CV]  pca__n_components=3, svm__kernel=linear, svm__gamma=0.3, svm__C=1, score=0.644737, total=   0.0s\n",
      "[CV] pca__n_components=3, svm__kernel=linear, svm__gamma=0.3, svm__C=1 \n",
      "[CV]  pca__n_components=3, svm__kernel=linear, svm__gamma=0.3, svm__C=1, score=0.666667, total=   0.0s\n",
      "[CV] pca__n_components=3, svm__kernel=linear, svm__gamma=0.3, svm__C=1 \n",
      "[CV]  pca__n_components=3, svm__kernel=linear, svm__gamma=0.3, svm__C=1, score=0.635135, total=   0.0s\n",
      "[CV] pca__n_components=3, svm__kernel=rbf, svm__gamma=0.3, svm__C=1 ..\n",
      "[CV]  pca__n_components=3, svm__kernel=rbf, svm__gamma=0.3, svm__C=1, score=0.526316, total=   0.0s\n",
      "[CV] pca__n_components=3, svm__kernel=rbf, svm__gamma=0.3, svm__C=1 ..\n",
      "[CV]  pca__n_components=3, svm__kernel=rbf, svm__gamma=0.3, svm__C=1, score=0.520000, total=   0.0s\n",
      "[CV] pca__n_components=3, svm__kernel=rbf, svm__gamma=0.3, svm__C=1 ..\n",
      "[CV]  pca__n_components=3, svm__kernel=rbf, svm__gamma=0.3, svm__C=1, score=0.554054, total=   0.0s\n",
      "[CV] pca__n_components=3, svm__kernel=linear, svm__gamma=0.1, svm__C=10 \n",
      "[CV]  pca__n_components=3, svm__kernel=linear, svm__gamma=0.1, svm__C=10, score=0.644737, total=   0.3s\n",
      "[CV] pca__n_components=3, svm__kernel=linear, svm__gamma=0.1, svm__C=10 \n",
      "[CV]  pca__n_components=3, svm__kernel=linear, svm__gamma=0.1, svm__C=10, score=0.666667, total=   0.3s\n",
      "[CV] pca__n_components=3, svm__kernel=linear, svm__gamma=0.1, svm__C=10 \n",
      "[CV]  pca__n_components=3, svm__kernel=linear, svm__gamma=0.1, svm__C=10, score=0.635135, total=   0.2s\n",
      "[CV] pca__n_components=3, svm__kernel=rbf, svm__gamma=0.1, svm__C=10 .\n",
      "[CV]  pca__n_components=3, svm__kernel=rbf, svm__gamma=0.1, svm__C=10, score=0.526316, total=   0.0s\n",
      "[CV] pca__n_components=3, svm__kernel=rbf, svm__gamma=0.1, svm__C=10 .\n",
      "[CV]  pca__n_components=3, svm__kernel=rbf, svm__gamma=0.1, svm__C=10, score=0.546667, total=   0.0s\n",
      "[CV] pca__n_components=3, svm__kernel=rbf, svm__gamma=0.1, svm__C=10 .\n",
      "[CV]  pca__n_components=3, svm__kernel=rbf, svm__gamma=0.1, svm__C=10, score=0.554054, total=   0.0s\n",
      "[CV] pca__n_components=3, svm__kernel=linear, svm__gamma=0.2, svm__C=10 \n",
      "[CV]  pca__n_components=3, svm__kernel=linear, svm__gamma=0.2, svm__C=10, score=0.644737, total=   0.3s\n",
      "[CV] pca__n_components=3, svm__kernel=linear, svm__gamma=0.2, svm__C=10 \n",
      "[CV]  pca__n_components=3, svm__kernel=linear, svm__gamma=0.2, svm__C=10, score=0.666667, total=   0.2s\n",
      "[CV] pca__n_components=3, svm__kernel=linear, svm__gamma=0.2, svm__C=10 \n",
      "[CV]  pca__n_components=3, svm__kernel=linear, svm__gamma=0.2, svm__C=10, score=0.635135, total=   0.2s\n",
      "[CV] pca__n_components=3, svm__kernel=rbf, svm__gamma=0.2, svm__C=10 .\n",
      "[CV]  pca__n_components=3, svm__kernel=rbf, svm__gamma=0.2, svm__C=10, score=0.513158, total=   0.0s\n",
      "[CV] pca__n_components=3, svm__kernel=rbf, svm__gamma=0.2, svm__C=10 .\n",
      "[CV]  pca__n_components=3, svm__kernel=rbf, svm__gamma=0.2, svm__C=10, score=0.520000, total=   0.0s\n",
      "[CV] pca__n_components=3, svm__kernel=rbf, svm__gamma=0.2, svm__C=10 .\n",
      "[CV]  pca__n_components=3, svm__kernel=rbf, svm__gamma=0.2, svm__C=10, score=0.540541, total=   0.0s\n",
      "[CV] pca__n_components=3, svm__kernel=linear, svm__gamma=0.3, svm__C=10 \n",
      "[CV]  pca__n_components=3, svm__kernel=linear, svm__gamma=0.3, svm__C=10, score=0.644737, total=   0.3s\n",
      "[CV] pca__n_components=3, svm__kernel=linear, svm__gamma=0.3, svm__C=10 \n",
      "[CV]  pca__n_components=3, svm__kernel=linear, svm__gamma=0.3, svm__C=10, score=0.666667, total=   0.2s\n",
      "[CV] pca__n_components=3, svm__kernel=linear, svm__gamma=0.3, svm__C=10 \n",
      "[CV]  pca__n_components=3, svm__kernel=linear, svm__gamma=0.3, svm__C=10, score=0.635135, total=   0.2s\n",
      "[CV] pca__n_components=3, svm__kernel=rbf, svm__gamma=0.3, svm__C=10 .\n",
      "[CV]  pca__n_components=3, svm__kernel=rbf, svm__gamma=0.3, svm__C=10, score=0.513158, total=   0.0s\n",
      "[CV] pca__n_components=3, svm__kernel=rbf, svm__gamma=0.3, svm__C=10 .\n",
      "[CV]  pca__n_components=3, svm__kernel=rbf, svm__gamma=0.3, svm__C=10, score=0.520000, total=   0.0s\n",
      "[CV] pca__n_components=3, svm__kernel=rbf, svm__gamma=0.3, svm__C=10 .\n",
      "[CV]  pca__n_components=3, svm__kernel=rbf, svm__gamma=0.3, svm__C=10, score=0.554054, total=   0.0s\n",
      "Pipeline(steps=[('pca', PCA(copy=True, iterated_power='auto', n_components=3, random_state=None,\n",
      "  svd_solver='auto', tol=0.0, whiten=False)), ('svm', SVC(C=0.05, cache_size=200, class_weight=None, coef0=0.0,\n",
      "  decision_function_shape=None, degree=3, gamma=0.1, kernel='linear',\n",
      "  max_iter=-1, probability=False, random_state=None, shrinking=True,\n",
      "  tol=0.001, verbose=False))])\n"
     ]
    },
    {
     "name": "stderr",
     "output_type": "stream",
     "text": [
      "[Parallel(n_jobs=1)]: Done 270 out of 270 | elapsed:   32.2s finished\n"
     ]
    }
   ],
   "source": [
    "from sklearn.model_selection import train_test_split\n",
    "from sklearn.pipeline import Pipeline, FeatureUnion\n",
    "from sklearn.model_selection import GridSearchCV\n",
    "from sklearn.svm import SVC\n",
    "from sklearn.decomposition import PCA\n",
    "from sklearn.feature_selection import SelectKBest\n",
    "\n",
    "X = data.iloc[:,1:].values\n",
    "y = data.iloc[:,0].values\n",
    "\n",
    "pca = PCA()\n",
    "\n",
    "svm = SVC()\n",
    "\n",
    "pipeline = Pipeline([(\"pca\", pca), (\"svm\", svm)])\n",
    "\n",
    "param_grid = dict(pca__n_components=[1, 2, 3],\n",
    "                  svm__kernel=['linear', 'rbf'],\n",
    "                  svm__C=[0.05,0.1,0.5, 1, 10],\n",
    "                  svm__gamma = [0.1,0.2,0.3])\n",
    "\n",
    "grid_search = GridSearchCV(pipeline, param_grid=param_grid, verbose=10)\n",
    "grid_search.fit(X, y)\n",
    "print(grid_search.best_estimator_)"
   ]
  },
  {
   "cell_type": "code",
   "execution_count": null,
   "metadata": {
    "collapsed": true,
    "deletable": true,
    "editable": true
   },
   "outputs": [],
   "source": []
  }
 ],
 "metadata": {
  "kernelspec": {
   "display_name": "Python 3",
   "language": "python",
   "name": "python3"
  },
  "language_info": {
   "codemirror_mode": {
    "name": "ipython",
    "version": 3
   },
   "file_extension": ".py",
   "mimetype": "text/x-python",
   "name": "python",
   "nbconvert_exporter": "python",
   "pygments_lexer": "ipython3",
   "version": "3.5.3"
  }
 },
 "nbformat": 4,
 "nbformat_minor": 2
}
