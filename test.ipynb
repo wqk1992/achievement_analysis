{
 "cells": [
  {
   "cell_type": "markdown",
   "metadata": {
    "collapsed": true,
    "deletable": true,
    "editable": true
   },
   "source": []
  },
  {
   "cell_type": "markdown",
   "metadata": {
    "deletable": true,
    "editable": true
   },
   "source": [
    "1.班级成绩显示图：\n",
    "    每门课的平均，最高，最低，中位数，众数等（数值）\n",
    "    每门课成绩分布（图）（类似高斯分布）\n",
    "    每门课的历史走势（图）#待考虑\n",
    "    \n",
    "    \n",
    "2.个体成绩显示图：\n",
    "    每门课在班级分布中的位置（在分布图中的位置）\n",
    "    每门课的在班级位置（名次）的历史走势（图）\n",
    "    \n",
    "    \n",
    "3.分析\n",
    "   \n",
    "   聚类（聚成几类）分析弱项\n",
    "   警报（偏离正常值）\n",
    "   \n",
    "    \n",
    "    "
   ]
  },
  {
   "cell_type": "code",
   "execution_count": 18,
   "metadata": {
    "collapsed": false,
    "deletable": true,
    "editable": true
   },
   "outputs": [
    {
     "data": {
      "text/plain": [
       "90.0"
      ]
     },
     "execution_count": 18,
     "metadata": {},
     "output_type": "execute_result"
    }
   ],
   "source": [
    "import visuals as vs\n",
    "import excel_op as exl \n",
    "db = exl.open_excel(r'.\\data\\test_data\\ThirdYear9.xlsx')\n",
    "db10 = exl.open_excel(r'.\\data\\test_data\\ThirdYear10.xlsx')\n",
    "type(db.data)\n",
    "#db.get_row(2)\n",
    "db.get_data( 0, 3, 3)#第一个表第四行第四列\n",
    "#db.get_row(0,3)第一个表第四行\n",
    "#db.get_col(0,0)第一个表第一列"
   ]
  },
  {
   "cell_type": "code",
   "execution_count": 19,
   "metadata": {
    "collapsed": false,
    "deletable": true,
    "editable": true
   },
   "outputs": [
    {
     "data": {
      "text/plain": [
       "True"
      ]
     },
     "execution_count": 19,
     "metadata": {},
     "output_type": "execute_result"
    }
   ],
   "source": [
    "db.get_data(0,8,3) == ''"
   ]
  },
  {
   "cell_type": "code",
   "execution_count": 21,
   "metadata": {
    "collapsed": false,
    "deletable": true,
    "editable": true
   },
   "outputs": [
    {
     "name": "stdout",
     "output_type": "stream",
     "text": [
      "----各科考试人数------\n",
      "化学    :    713\n",
      "生物    :    712\n",
      "物理    :    712\n",
      "政治    :    457\n",
      "语文    :    1168\n",
      "数学    :    1172\n",
      "历史    :    457\n",
      "英语    :    1169\n",
      "地理    :    457\n"
     ]
    }
   ],
   "source": [
    "#各科考试人数\n",
    "\n",
    "object_name = db.get_row(0,0)[3:12]\n",
    "object_dict = {}\n",
    "for i in range(len(object_name)):\n",
    "    num = 0\n",
    "    for x in range(1,len(db.get_col(0,0))):\n",
    "        if db.get_data(0,x,i+3) != '':\n",
    "            num += 1\n",
    "    object_dict[object_name[i]] = num\n",
    "print(\"----各科考试人数------\")\n",
    "for key,value in object_dict.items():\n",
    "    print(key+\"    :    \"+str(value))"
   ]
  },
  {
   "cell_type": "code",
   "execution_count": 22,
   "metadata": {
    "collapsed": false,
    "deletable": true,
    "editable": true
   },
   "outputs": [
    {
     "name": "stdout",
     "output_type": "stream",
     "text": [
      "----各科均分------\n",
      "化学    :    52.99438990182328\n",
      "生物    :    73.09410112359551\n",
      "物理    :    43.943820224719104\n",
      "政治    :    52.76148796498906\n",
      "语文    :    88.28424657534246\n",
      "数学    :    77.71672354948805\n",
      "历史    :    44.46827133479212\n",
      "英语    :    72.5551753635586\n",
      "地理    :    66.66083150984683\n"
     ]
    }
   ],
   "source": [
    "#年级总平均分\n",
    "object_name = db.get_row(0,0)[3:12]\n",
    "object_score_dict = {}\n",
    "for i in range(len(object_name)):\n",
    "    score = 0\n",
    "    num = 0\n",
    "    for x in range(1,len(db.get_col(0,0))):\n",
    "        data_str  = db.get_data(0,x,i+3)\n",
    "        if data_str != '':\n",
    "            score += int(data_str)\n",
    "            num += 1\n",
    "    object_score_dict[object_name[i]] = score/num\n",
    "\n",
    "print(\"----各科均分------\")\n",
    "score_sum = 0\n",
    "for key,value in object_score_dict.items():\n",
    "    score_sum += value\n",
    "    print(key+\"    :    \"+str(value))\n"
   ]
  },
  {
   "cell_type": "code",
   "execution_count": 23,
   "metadata": {
    "collapsed": false,
    "deletable": true,
    "editable": true,
    "scrolled": true
   },
   "outputs": [
    {
     "name": "stdout",
     "output_type": "stream",
     "text": [
      "----各科--最高--最低------\n",
      "语文:    113      44\n",
      "数学:    149      0\n",
      "英语:    123      22\n",
      "物理:    89      3\n",
      "化学:    92      3\n",
      "生物:    97      21\n",
      "政治:    79      22\n",
      "历史:    69      16\n",
      "地理:    93      16\n"
     ]
    }
   ],
   "source": [
    "#最高分 最低分 \n",
    "\n",
    "object_name = db.get_row(0,0)[3:12]\n",
    "object_score_max = {}\n",
    "object_score_min = {}\n",
    "\n",
    "for i in range(len(object_name)):\n",
    "    maxv = 0\n",
    "    minv = 999\n",
    "    for x in range(1,len(db.get_col(0,0))):\n",
    "        data_str  = db.get_data(0,x,i+3)\n",
    "        if data_str != '':\n",
    "            data_int = int(data_str)\n",
    "            if data_int > maxv:\n",
    "                maxv = data_int\n",
    "            if data_int <minv:\n",
    "                minv = data_int\n",
    "    \n",
    "    object_score_max[object_name[i]] = maxv\n",
    "    object_score_min[object_name[i]] = minv\n",
    "\n",
    "print(\"----各科--最高--最低------\")\n",
    "\n",
    "for key in object_name:\n",
    "    \n",
    "    print(key+\":    \"+str(object_score_max[key])+\"      \"+str(object_score_min[key]))\n"
   ]
  },
  {
   "cell_type": "code",
   "execution_count": 27,
   "metadata": {
    "collapsed": false,
    "deletable": true,
    "editable": true
   },
   "outputs": [
    {
     "data": {
      "text/plain": [
       "{'化学': 43.95918367346939,\n",
       " '数学': 79.28571428571429,\n",
       " '物理': 34.40816326530612,\n",
       " '生物': 62.04081632653061,\n",
       " '英语': 60.93877551020408,\n",
       " '语文': 83.14583333333333}"
      ]
     },
     "execution_count": 27,
     "metadata": {},
     "output_type": "execute_result"
    }
   ],
   "source": [
    "#各班平均分\n",
    "\n",
    "\n",
    "def get_class_score(class_num):\n",
    "    score = []\n",
    "    score.append(db.get_row(0,0)[:13])\n",
    "    col = db.get_col(0,0)\n",
    "    for index,item in enumerate(col):\n",
    "        #print(index)\n",
    "        #print(item)\n",
    "        if item == class_num:\n",
    "            score.append(db.get_row(0,index)[:13])\n",
    "#     for i in score:\n",
    "#         print(i)\n",
    "    return score\n",
    " \n",
    "\n",
    "def class_mean(class_score):\n",
    "    object_name = []\n",
    "    object_name.extend(class_score[0][3:6])\n",
    "    if class_score[1][12] == u'文科':\n",
    "        object_name.extend(class_score[0][9:12])\n",
    "        object_index = [3,4,5,9,10,11]\n",
    "    if class_score[1][12] == u'理科':\n",
    "        object_name.extend(class_score[0][6:9])\n",
    "        object_index = [3,4,5,6,7,8]\n",
    "   # print(object_name)  \n",
    "    \n",
    "    object_mean_score = {}\n",
    "    nb = len(class_score)\n",
    "    for index,item in enumerate(object_index):\n",
    "        sums = 0\n",
    "        num = 0\n",
    "        for j in range(1,nb):\n",
    "            if class_score[j][item] != '':\n",
    "                sums += class_score[j][item]\n",
    "                num += 1\n",
    "        object_mean_score[object_name[index]] = sums/num\n",
    "    \n",
    "    \n",
    "    return object_mean_score\n",
    "\n",
    "a = class_mean(get_class_score(8))\n",
    "a"
   ]
  },
  {
   "cell_type": "code",
   "execution_count": 24,
   "metadata": {
    "collapsed": false,
    "deletable": true,
    "editable": true
   },
   "outputs": [
    {
     "data": {
      "text/plain": [
       "[['班级',\n",
       "  '姓名',\n",
       "  '考号',\n",
       "  '语文',\n",
       "  '数学',\n",
       "  '英语',\n",
       "  '物理',\n",
       "  '化学',\n",
       "  '生物',\n",
       "  '政治',\n",
       "  '历史',\n",
       "  '地理',\n",
       "  '文理'],\n",
       " [8.0, '陈兆胜', '0908', '', 64.0, 83.0, 41.0, 52.0, 65.0, '', '', '', '理科'],\n",
       " [8.0, '黄振烨', '0917', 94.0, 69.0, 55.5, 24.0, 10.0, 46.0, '', '', '', '理科'],\n",
       " [8.0, '吴海燕', '0926', 72.0, 62.0, 79.0, 23.0, 34.0, 56.0, '', '', '', '理科'],\n",
       " [8.0, '王济兴', '0936', 84.0, 59.0, 51.0, 35.0, 52.0, 64.0, '', '', '', '理科'],\n",
       " [8.0, '汪翼虎', '0947', 104.0, 87.0, 44.5, 32.0, 35.0, 78.0, '', '', '', '理科'],\n",
       " [8.0, '王强', '0958', 87.0, 72.0, 40.5, 35.0, 35.0, 41.0, '', '', '', '理科'],\n",
       " [8.0, '汪洋', '1002', 80.0, 113.0, 58.0, 27.0, 42.0, 56.0, '', '', '', '理科'],\n",
       " [8.0, '桂晓强', '1013', 74.0, 64.0, 39.0, 37.0, 32.0, 68.0, '', '', '', '理科'],\n",
       " [8.0, '漆彪', '1024', 79.0, 98.0, 64.0, 35.0, 42.0, 54.0, '', '', '', '理科'],\n",
       " [8.0, '王治宇', '1035', 81.0, 75.0, 92.5, 24.0, 52.0, 74.0, '', '', '', '理科'],\n",
       " [8.0, '邓晓敏', '1046', 84.0, 65.0, 67.5, 50.0, 43.0, 66.0, '', '', '', '理科'],\n",
       " [8.0, '鲍沈洋', '1102', 85.0, 76.0, 94.5, 23.0, 44.0, 69.0, '', '', '', '理科'],\n",
       " [8.0, '郭启旭', '1112', 71.0, 25.0, 54.5, 24.0, 30.0, 51.0, '', '', '', '理科'],\n",
       " [8.0, '周海洋', '1124', 64.0, 52.0, 48.5, 33.0, 29.0, 49.0, '', '', '', '理科'],\n",
       " [8.0, '姚雪玲', '1135', 82.0, 66.0, 76.5, 40.0, 52.0, 50.0, '', '', '', '理科'],\n",
       " [8.0, '张兴旺', '1146', 79.0, 85.0, 34.0, 46.0, 31.0, 71.0, '', '', '', '理科'],\n",
       " [8.0, '吴翠', '1202', 82.0, 40.0, 54.5, 34.0, 38.0, 42.0, '', '', '', '理科'],\n",
       " [8.0, '卢文竹', '1213', 78.0, 102.0, 63.5, 52.0, 44.0, 61.0, '', '', '', '理科'],\n",
       " [8.0, '台德丽', '1224', 96.0, 51.0, 71.5, 29.0, 36.0, 43.0, '', '', '', '理科'],\n",
       " [8.0, '余代青', '1235', 93.0, 42.0, 87.5, 20.0, 37.0, 42.0, '', '', '', '理科'],\n",
       " [8.0, '储海波', '1246', 76.0, 103.0, 26.5, 40.0, 79.0, 81.0, '', '', '', '理科'],\n",
       " [8.0, '徐凯', '1301', 49.0, 58.0, 35.0, 32.0, 41.0, 42.0, '', '', '', '理科'],\n",
       " [8.0, '王磊磊', '1312', 89.0, 97.0, 44.5, 50.0, 72.0, 80.0, '', '', '', '理科'],\n",
       " [8.0, '张少昆', '1324', 84.0, 90.0, 45.0, 40.0, 66.0, 83.0, '', '', '', '理科'],\n",
       " [8.0, '潘爱军', '1335', 72.0, 59.0, 64.5, 19.0, 36.0, 61.0, '', '', '', '理科'],\n",
       " [8.0, '卢仕虎', '1345', 82.0, 109.0, 53.5, 52.0, 73.0, 55.0, '', '', '', '理科'],\n",
       " [8.0, '王毅', '1401', 91.0, 117.0, 48.0, 45.0, 66.0, 75.0, '', '', '', '理科'],\n",
       " [8.0, '张露露', '1411', 77.0, 74.0, 49.5, 9.0, 32.0, 65.0, '', '', '', '理科'],\n",
       " [8.0, '吴中圆', '1422', 87.0, 116.0, 42.0, 46.0, 34.0, 51.0, '', '', '', '理科'],\n",
       " [8.0, '曹志强', '1433', 78.0, 60.0, 40.5, 36.0, 49.0, 72.0, '', '', '', '理科'],\n",
       " [8.0, '汪俊', '1446', 91.0, 83.0, 72.0, 36.0, 33.0, 63.0, '', '', '', '理科'],\n",
       " [8.0, '叶玉婷', '1502', 90.0, 83.0, 45.5, 38.0, 49.0, 70.0, '', '', '', '理科'],\n",
       " [8.0, '彭宏润', '1514', 97.0, 85.0, 74.0, 26.0, 62.0, 79.0, '', '', '', '理科'],\n",
       " [8.0, '王虎', '1525', 79.0, 99.0, 48.5, 25.0, 37.0, 52.0, '', '', '', '理科'],\n",
       " [8.0, '卢荣耀', '1536', 80.0, 107.0, 70.0, 15.0, 27.0, 60.0, '', '', '', '理科'],\n",
       " [8.0, '李明阳', '1547', 74.0, 85.0, 80.0, 31.0, 38.0, 49.0, '', '', '', '理科'],\n",
       " [8.0, '汪弘扬', '1603', 82.0, 117.0, 52.0, 48.0, 55.0, 87.0, '', '', '', '理科'],\n",
       " [8.0, '张龙照', '1614', 88.0, 108.0, 50.0, 52.0, 64.0, 79.0, '', '', '', '理科'],\n",
       " [8.0, '蔡梦', '1625', 78.0, 44.0, 73.0, 40.0, 40.0, 56.0, '', '', '', '理科'],\n",
       " [8.0, '徐勇', '1636', 90.0, 76.0, 76.0, 35.0, 33.0, 60.0, '', '', '', '理科'],\n",
       " [8.0, '熊奇涛', '1648', 84.0, 88.0, 47.5, 37.0, 57.0, 78.0, '', '', '', '理科'],\n",
       " [8.0, '侯俊锋', '1703', 77.0, 50.0, 70.0, 20.0, 21.0, 61.0, '', '', '', '理科'],\n",
       " [8.0, '李挺', '1714', 81.0, 61.0, 91.5, 34.0, 33.0, 47.0, '', '', '', '理科'],\n",
       " [8.0, '吴禄俊', '1726', 83.0, 80.0, 95.0, 28.0, 34.0, 64.0, '', '', '', '理科'],\n",
       " [8.0, '王义可', '1738', 99.0, 60.0, 95.5, 36.0, 34.0, 58.0, '', '', '', '理科'],\n",
       " [8.0, '蔡炜楠', '1749', 81.0, 139.0, 72.5, 55.0, 53.0, 54.0, '', '', '', '理科'],\n",
       " [8.0, '丁业军', '1805', 97.0, 73.0, 66.5, 26.0, 64.0, 69.0, '', '', '', '理科'],\n",
       " [8.0, '胡敏', '1816', 102.0, 103.0, 68.0, 47.0, 54.0, 86.0, '', '', '', '理科'],\n",
       " [8.0, '汪辰', '1827', 84.0, 94.0, 30.0, 24.0, 48.0, 57.0, '', '', '', '理科']]"
      ]
     },
     "execution_count": 24,
     "metadata": {},
     "output_type": "execute_result"
    }
   ],
   "source": [
    "get_class_score(8)"
   ]
  },
  {
   "cell_type": "code",
   "execution_count": 54,
   "metadata": {
    "collapsed": false,
    "deletable": true,
    "editable": true
   },
   "outputs": [
    {
     "data": {
      "text/plain": [
       "{'化学': 39.0, '数学': 75.0, '物理': 22.0, '生物': 60.0, '英语': 53.5, '语文': 86.0}"
      ]
     },
     "execution_count": 54,
     "metadata": {},
     "output_type": "execute_result"
    }
   ],
   "source": [
    "#方差，标准差，极差，中位数\n",
    "#class_score = get_class_score(10)\n",
    "#class_mean = class_mean(class_score)\n",
    "\n",
    "# 方差\n",
    "class_score = get_class_score(10)\n",
    "def class_variance(class_score):\n",
    "    mean = class_mean(class_score)      #均分\n",
    "    object_name = []                          #object_name\n",
    "    object_name.extend(class_score[0][3:6])\n",
    "    if class_score[1][12] == u'文科':\n",
    "        object_name.extend(class_score[0][9:12]) \n",
    "        object_index = [3,4,5,9,10,11]        #object_index\n",
    "    if class_score[1][12] == u'理科':\n",
    "        object_name.extend(class_score[0][6:9])\n",
    "        object_index = [3,4,5,6,7,8]\n",
    "        \n",
    "    nb = len(class_score)\n",
    "    object_variance= {}\n",
    "    for index,item in enumerate(object_index):\n",
    "        \n",
    "        variance = 0\n",
    "        num = 0\n",
    "        for j in range(1,nb):\n",
    "            if class_score[j][item] != '':\n",
    "                variance += (class_score[j][item] - mean[object_name[index]])**2\n",
    "                num += 1\n",
    "        object_variance[object_name[index]] = variance/num\n",
    "    \n",
    "    return object_variance\n",
    "\n",
    "#标准差\n",
    "def class_standard_deviation(class_score):\n",
    "    a = class_variance(class_score)\n",
    "    for key in a:\n",
    "        a[key] = a[key] ** 0.5\n",
    "    return a\n",
    "    \n",
    "# 极差\n",
    "def class_range(class_score):\n",
    "    \n",
    "    object_name = []                          #object_name\n",
    "    object_name.extend(class_score[0][3:6])\n",
    "    if class_score[1][12] == u'文科':\n",
    "        object_name.extend(class_score[0][9:12]) \n",
    "        object_index = [3,4,5,9,10,11]        #object_index\n",
    "    if class_score[1][12] == u'理科':\n",
    "        object_name.extend(class_score[0][6:9])\n",
    "        object_index = [3,4,5,6,7,8]\n",
    "        \n",
    "    \n",
    "    max_score = []\n",
    "    min_score = []\n",
    "    nb = len(class_score)\n",
    "    for item in object_index:\n",
    "        maxs = 0\n",
    "        mins = 999\n",
    "        \n",
    "        for j in range(1,nb):\n",
    "            score = class_score[j][item]\n",
    "            if score != '':\n",
    "                if score > maxs:\n",
    "                    maxs = score\n",
    "                if score < mins:\n",
    "                    mins = score\n",
    "        max_score.append(maxs)\n",
    "        min_score.append(mins)\n",
    "    \n",
    "    max_min_score = {}\n",
    "    for index,item in enumerate(object_name):\n",
    "        max_min_score[item] = [max_score[index],min_score[index]]\n",
    "    return max_min_score     \n",
    "      \n",
    "    \n",
    "def class_median(class_score):\n",
    "    \n",
    "    object_name = []                          #object_name\n",
    "    object_name.extend(class_score[0][3:6])\n",
    "    if class_score[1][12] == u'文科':\n",
    "        object_name.extend(class_score[0][9:12]) \n",
    "        object_index = [3,4,5,9,10,11]        #object_index\n",
    "    if class_score[1][12] == u'理科':\n",
    "        object_name.extend(class_score[0][6:9])\n",
    "        object_index = [3,4,5,6,7,8]\n",
    "    nb = len(class_score)\n",
    "    \n",
    "    col = lambda i,lit:[lit[row][i] for row in range(len(lit))] \n",
    "    median_score = {}\n",
    "    for index,item in enumerate(object_index):\n",
    "        col_score = col(item,class_score)\n",
    "        for i in col_score:\n",
    "            if i == '':\n",
    "                col_score.remove(i)\n",
    "        median_score[object_name[index]] = col_score[len(col_score)//2]\n",
    "    return median_score\n",
    "              \n",
    "    \n",
    "\n",
    "class_variance(class_score)\n",
    "class_standard_deviation(class_score)\n",
    "\n",
    "class_range(class_score)\n",
    "class_median(class_score)\n"
   ]
  },
  {
   "cell_type": "code",
   "execution_count": null,
   "metadata": {
    "collapsed": true
   },
   "outputs": [],
   "source": []
  },
  {
   "cell_type": "code",
   "execution_count": null,
   "metadata": {
    "collapsed": true
   },
   "outputs": [],
   "source": []
  }
 ],
 "metadata": {
  "kernelspec": {
   "display_name": "Python 3",
   "language": "python",
   "name": "python3"
  },
  "language_info": {
   "codemirror_mode": {
    "name": "ipython",
    "version": 3
   },
   "file_extension": ".py",
   "mimetype": "text/x-python",
   "name": "python",
   "nbconvert_exporter": "python",
   "pygments_lexer": "ipython3",
   "version": "3.5.3"
  }
 },
 "nbformat": 4,
 "nbformat_minor": 2
}
